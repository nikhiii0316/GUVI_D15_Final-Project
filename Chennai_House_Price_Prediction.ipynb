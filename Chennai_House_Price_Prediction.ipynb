{
  "nbformat": 4,
  "nbformat_minor": 0,
  "metadata": {
    "colab": {
      "provenance": [],
      "authorship_tag": "ABX9TyO0Qu/Y+GhXE90/mRV9hFLE",
      "include_colab_link": true
    },
    "kernelspec": {
      "name": "python3",
      "display_name": "Python 3"
    },
    "language_info": {
      "name": "python"
    }
  },
  "cells": [
    {
      "cell_type": "markdown",
      "metadata": {
        "id": "view-in-github",
        "colab_type": "text"
      },
      "source": [
        "<a href=\"https://colab.research.google.com/github/nikhiii0316/GUVI_D15_Final-Project/blob/main/Chennai_House_Price_Prediction.ipynb\" target=\"_parent\"><img src=\"https://colab.research.google.com/assets/colab-badge.svg\" alt=\"Open In Colab\"/></a>"
      ]
    },
    {
      "cell_type": "markdown",
      "source": [
        "\n",
        "\n",
        "#  **Chennai House Price Prediction**\n",
        "### **Problem Statement**\n",
        "\n",
        "\n",
        "\n"
      ],
      "metadata": {
        "id": "Mr5lCaElA6KZ"
      }
    },
    {
      "cell_type": "markdown",
      "source": [
        "**Real estate transactions are quite opaque sometimes and it may be difficult for a newbie to know the fair price of any given home. Thus, multiple real estate websites have the functionality to predict the prices of houses given different features regarding it. Such forecasting models will help buyers to identify a fair price for the home and also give insights to sellers as to how to build homes that fetch them more money. Chennai house sale price data is shared here and the participants are expected to build a sale price prediction model that will aid the customers to find a fair price for their homes and also help the sellers understand what factors are fetching more money for the houses?**"
      ],
      "metadata": {
        "id": "3KxWMLX2MM1J"
      }
    },
    {
      "cell_type": "markdown",
      "source": [
        "# Importing the required libraries"
      ],
      "metadata": {
        "id": "TGKQ5cTgBXyE"
      }
    },
    {
      "cell_type": "code",
      "source": [
        "import pandas as pd\n",
        "import numpy as np\n",
        "import matplotlib.pyplot as plt"
      ],
      "metadata": {
        "id": "LHu1QFcWBqcD"
      },
      "execution_count": 2,
      "outputs": []
    },
    {
      "cell_type": "markdown",
      "source": [
        "**Importing the required CSV data file**\n",
        "\n"
      ],
      "metadata": {
        "id": "PKUTG2M-CYtt"
      }
    },
    {
      "cell_type": "code",
      "source": [
        "pd.set_option('display.max_columns', None) #used for expanding the no.of columns in a dataframe\n",
        "df=pd.read_csv(\"/content/train-chennai-sale.csv\") #importing the data\n",
        "df.head() #to view the firts 5 datas in the data set\n"
      ],
      "metadata": {
        "colab": {
          "base_uri": "https://localhost:8080/",
          "height": 357
        },
        "id": "sI_udiffB1vH",
        "outputId": "f2aca985-8040-496c-ebab-e10645c5ca10"
      },
      "execution_count": 3,
      "outputs": [
        {
          "output_type": "execute_result",
          "data": {
            "text/plain": [
              "   PRT_ID        AREA  INT_SQFT   DATE_SALE  DIST_MAINROAD  N_BEDROOM  \\\n",
              "0  P03210  Karapakkam      1004  04-05-2011            131        1.0   \n",
              "1  P09411  Anna Nagar      1986  19-12-2006             26        2.0   \n",
              "2  P01812       Adyar       909  04-02-2012             70        1.0   \n",
              "3  P05346   Velachery      1855  13-03-2010             14        3.0   \n",
              "4  P06210  Karapakkam      1226  05-10-2009             84        1.0   \n",
              "\n",
              "   N_BATHROOM  N_ROOM SALE_COND PARK_FACIL  DATE_BUILD   BUILDTYPE  \\\n",
              "0         1.0       3  AbNormal        Yes  15-05-1967  Commercial   \n",
              "1         1.0       5  AbNormal         No  22-12-1995  Commercial   \n",
              "2         1.0       3  AbNormal        Yes  09-02-1992  Commercial   \n",
              "3         2.0       5    Family         No  18-03-1988      Others   \n",
              "4         1.0       3  AbNormal        Yes  13-10-1979      Others   \n",
              "\n",
              "  UTILITY_AVAIL  STREET MZZONE  QS_ROOMS  QS_BATHROOM  QS_BEDROOM  QS_OVERALL  \\\n",
              "0        AllPub   Paved      A       4.0          3.9         4.9       4.330   \n",
              "1        AllPub  Gravel     RH       4.9          4.2         2.5       3.765   \n",
              "2           ELO  Gravel     RL       4.1          3.8         2.2       3.090   \n",
              "3       NoSewr    Paved      I       4.7          3.9         3.6       4.010   \n",
              "4        AllPub  Gravel      C       3.0          2.5         4.1       3.290   \n",
              "\n",
              "   REG_FEE  COMMIS  SALES_PRICE  \n",
              "0   380000  144400      7600000  \n",
              "1   760122  304049     21717770  \n",
              "2   421094   92114     13159200  \n",
              "3   356321   77042      9630290  \n",
              "4   237000   74063      7406250  "
            ],
            "text/html": [
              "\n",
              "  <div id=\"df-96891ab1-cc57-4d04-84cb-0c4e29a4ecb0\">\n",
              "    <div class=\"colab-df-container\">\n",
              "      <div>\n",
              "<style scoped>\n",
              "    .dataframe tbody tr th:only-of-type {\n",
              "        vertical-align: middle;\n",
              "    }\n",
              "\n",
              "    .dataframe tbody tr th {\n",
              "        vertical-align: top;\n",
              "    }\n",
              "\n",
              "    .dataframe thead th {\n",
              "        text-align: right;\n",
              "    }\n",
              "</style>\n",
              "<table border=\"1\" class=\"dataframe\">\n",
              "  <thead>\n",
              "    <tr style=\"text-align: right;\">\n",
              "      <th></th>\n",
              "      <th>PRT_ID</th>\n",
              "      <th>AREA</th>\n",
              "      <th>INT_SQFT</th>\n",
              "      <th>DATE_SALE</th>\n",
              "      <th>DIST_MAINROAD</th>\n",
              "      <th>N_BEDROOM</th>\n",
              "      <th>N_BATHROOM</th>\n",
              "      <th>N_ROOM</th>\n",
              "      <th>SALE_COND</th>\n",
              "      <th>PARK_FACIL</th>\n",
              "      <th>DATE_BUILD</th>\n",
              "      <th>BUILDTYPE</th>\n",
              "      <th>UTILITY_AVAIL</th>\n",
              "      <th>STREET</th>\n",
              "      <th>MZZONE</th>\n",
              "      <th>QS_ROOMS</th>\n",
              "      <th>QS_BATHROOM</th>\n",
              "      <th>QS_BEDROOM</th>\n",
              "      <th>QS_OVERALL</th>\n",
              "      <th>REG_FEE</th>\n",
              "      <th>COMMIS</th>\n",
              "      <th>SALES_PRICE</th>\n",
              "    </tr>\n",
              "  </thead>\n",
              "  <tbody>\n",
              "    <tr>\n",
              "      <th>0</th>\n",
              "      <td>P03210</td>\n",
              "      <td>Karapakkam</td>\n",
              "      <td>1004</td>\n",
              "      <td>04-05-2011</td>\n",
              "      <td>131</td>\n",
              "      <td>1.0</td>\n",
              "      <td>1.0</td>\n",
              "      <td>3</td>\n",
              "      <td>AbNormal</td>\n",
              "      <td>Yes</td>\n",
              "      <td>15-05-1967</td>\n",
              "      <td>Commercial</td>\n",
              "      <td>AllPub</td>\n",
              "      <td>Paved</td>\n",
              "      <td>A</td>\n",
              "      <td>4.0</td>\n",
              "      <td>3.9</td>\n",
              "      <td>4.9</td>\n",
              "      <td>4.330</td>\n",
              "      <td>380000</td>\n",
              "      <td>144400</td>\n",
              "      <td>7600000</td>\n",
              "    </tr>\n",
              "    <tr>\n",
              "      <th>1</th>\n",
              "      <td>P09411</td>\n",
              "      <td>Anna Nagar</td>\n",
              "      <td>1986</td>\n",
              "      <td>19-12-2006</td>\n",
              "      <td>26</td>\n",
              "      <td>2.0</td>\n",
              "      <td>1.0</td>\n",
              "      <td>5</td>\n",
              "      <td>AbNormal</td>\n",
              "      <td>No</td>\n",
              "      <td>22-12-1995</td>\n",
              "      <td>Commercial</td>\n",
              "      <td>AllPub</td>\n",
              "      <td>Gravel</td>\n",
              "      <td>RH</td>\n",
              "      <td>4.9</td>\n",
              "      <td>4.2</td>\n",
              "      <td>2.5</td>\n",
              "      <td>3.765</td>\n",
              "      <td>760122</td>\n",
              "      <td>304049</td>\n",
              "      <td>21717770</td>\n",
              "    </tr>\n",
              "    <tr>\n",
              "      <th>2</th>\n",
              "      <td>P01812</td>\n",
              "      <td>Adyar</td>\n",
              "      <td>909</td>\n",
              "      <td>04-02-2012</td>\n",
              "      <td>70</td>\n",
              "      <td>1.0</td>\n",
              "      <td>1.0</td>\n",
              "      <td>3</td>\n",
              "      <td>AbNormal</td>\n",
              "      <td>Yes</td>\n",
              "      <td>09-02-1992</td>\n",
              "      <td>Commercial</td>\n",
              "      <td>ELO</td>\n",
              "      <td>Gravel</td>\n",
              "      <td>RL</td>\n",
              "      <td>4.1</td>\n",
              "      <td>3.8</td>\n",
              "      <td>2.2</td>\n",
              "      <td>3.090</td>\n",
              "      <td>421094</td>\n",
              "      <td>92114</td>\n",
              "      <td>13159200</td>\n",
              "    </tr>\n",
              "    <tr>\n",
              "      <th>3</th>\n",
              "      <td>P05346</td>\n",
              "      <td>Velachery</td>\n",
              "      <td>1855</td>\n",
              "      <td>13-03-2010</td>\n",
              "      <td>14</td>\n",
              "      <td>3.0</td>\n",
              "      <td>2.0</td>\n",
              "      <td>5</td>\n",
              "      <td>Family</td>\n",
              "      <td>No</td>\n",
              "      <td>18-03-1988</td>\n",
              "      <td>Others</td>\n",
              "      <td>NoSewr</td>\n",
              "      <td>Paved</td>\n",
              "      <td>I</td>\n",
              "      <td>4.7</td>\n",
              "      <td>3.9</td>\n",
              "      <td>3.6</td>\n",
              "      <td>4.010</td>\n",
              "      <td>356321</td>\n",
              "      <td>77042</td>\n",
              "      <td>9630290</td>\n",
              "    </tr>\n",
              "    <tr>\n",
              "      <th>4</th>\n",
              "      <td>P06210</td>\n",
              "      <td>Karapakkam</td>\n",
              "      <td>1226</td>\n",
              "      <td>05-10-2009</td>\n",
              "      <td>84</td>\n",
              "      <td>1.0</td>\n",
              "      <td>1.0</td>\n",
              "      <td>3</td>\n",
              "      <td>AbNormal</td>\n",
              "      <td>Yes</td>\n",
              "      <td>13-10-1979</td>\n",
              "      <td>Others</td>\n",
              "      <td>AllPub</td>\n",
              "      <td>Gravel</td>\n",
              "      <td>C</td>\n",
              "      <td>3.0</td>\n",
              "      <td>2.5</td>\n",
              "      <td>4.1</td>\n",
              "      <td>3.290</td>\n",
              "      <td>237000</td>\n",
              "      <td>74063</td>\n",
              "      <td>7406250</td>\n",
              "    </tr>\n",
              "  </tbody>\n",
              "</table>\n",
              "</div>\n",
              "      <button class=\"colab-df-convert\" onclick=\"convertToInteractive('df-96891ab1-cc57-4d04-84cb-0c4e29a4ecb0')\"\n",
              "              title=\"Convert this dataframe to an interactive table.\"\n",
              "              style=\"display:none;\">\n",
              "        \n",
              "  <svg xmlns=\"http://www.w3.org/2000/svg\" height=\"24px\"viewBox=\"0 0 24 24\"\n",
              "       width=\"24px\">\n",
              "    <path d=\"M0 0h24v24H0V0z\" fill=\"none\"/>\n",
              "    <path d=\"M18.56 5.44l.94 2.06.94-2.06 2.06-.94-2.06-.94-.94-2.06-.94 2.06-2.06.94zm-11 1L8.5 8.5l.94-2.06 2.06-.94-2.06-.94L8.5 2.5l-.94 2.06-2.06.94zm10 10l.94 2.06.94-2.06 2.06-.94-2.06-.94-.94-2.06-.94 2.06-2.06.94z\"/><path d=\"M17.41 7.96l-1.37-1.37c-.4-.4-.92-.59-1.43-.59-.52 0-1.04.2-1.43.59L10.3 9.45l-7.72 7.72c-.78.78-.78 2.05 0 2.83L4 21.41c.39.39.9.59 1.41.59.51 0 1.02-.2 1.41-.59l7.78-7.78 2.81-2.81c.8-.78.8-2.07 0-2.86zM5.41 20L4 18.59l7.72-7.72 1.47 1.35L5.41 20z\"/>\n",
              "  </svg>\n",
              "      </button>\n",
              "      \n",
              "  <style>\n",
              "    .colab-df-container {\n",
              "      display:flex;\n",
              "      flex-wrap:wrap;\n",
              "      gap: 12px;\n",
              "    }\n",
              "\n",
              "    .colab-df-convert {\n",
              "      background-color: #E8F0FE;\n",
              "      border: none;\n",
              "      border-radius: 50%;\n",
              "      cursor: pointer;\n",
              "      display: none;\n",
              "      fill: #1967D2;\n",
              "      height: 32px;\n",
              "      padding: 0 0 0 0;\n",
              "      width: 32px;\n",
              "    }\n",
              "\n",
              "    .colab-df-convert:hover {\n",
              "      background-color: #E2EBFA;\n",
              "      box-shadow: 0px 1px 2px rgba(60, 64, 67, 0.3), 0px 1px 3px 1px rgba(60, 64, 67, 0.15);\n",
              "      fill: #174EA6;\n",
              "    }\n",
              "\n",
              "    [theme=dark] .colab-df-convert {\n",
              "      background-color: #3B4455;\n",
              "      fill: #D2E3FC;\n",
              "    }\n",
              "\n",
              "    [theme=dark] .colab-df-convert:hover {\n",
              "      background-color: #434B5C;\n",
              "      box-shadow: 0px 1px 3px 1px rgba(0, 0, 0, 0.15);\n",
              "      filter: drop-shadow(0px 1px 2px rgba(0, 0, 0, 0.3));\n",
              "      fill: #FFFFFF;\n",
              "    }\n",
              "  </style>\n",
              "\n",
              "      <script>\n",
              "        const buttonEl =\n",
              "          document.querySelector('#df-96891ab1-cc57-4d04-84cb-0c4e29a4ecb0 button.colab-df-convert');\n",
              "        buttonEl.style.display =\n",
              "          google.colab.kernel.accessAllowed ? 'block' : 'none';\n",
              "\n",
              "        async function convertToInteractive(key) {\n",
              "          const element = document.querySelector('#df-96891ab1-cc57-4d04-84cb-0c4e29a4ecb0');\n",
              "          const dataTable =\n",
              "            await google.colab.kernel.invokeFunction('convertToInteractive',\n",
              "                                                     [key], {});\n",
              "          if (!dataTable) return;\n",
              "\n",
              "          const docLinkHtml = 'Like what you see? Visit the ' +\n",
              "            '<a target=\"_blank\" href=https://colab.research.google.com/notebooks/data_table.ipynb>data table notebook</a>'\n",
              "            + ' to learn more about interactive tables.';\n",
              "          element.innerHTML = '';\n",
              "          dataTable['output_type'] = 'display_data';\n",
              "          await google.colab.output.renderOutput(dataTable, element);\n",
              "          const docLink = document.createElement('div');\n",
              "          docLink.innerHTML = docLinkHtml;\n",
              "          element.appendChild(docLink);\n",
              "        }\n",
              "      </script>\n",
              "    </div>\n",
              "  </div>\n",
              "  "
            ]
          },
          "metadata": {},
          "execution_count": 3
        }
      ]
    },
    {
      "cell_type": "markdown",
      "source": [
        "# Observing the dataset"
      ],
      "metadata": {
        "id": "9ifGziB0Edxz"
      }
    },
    {
      "cell_type": "code",
      "source": [
        "df.info() #prints information about the DataFrame"
      ],
      "metadata": {
        "colab": {
          "base_uri": "https://localhost:8080/"
        },
        "id": "kNf-CGKjB1sn",
        "outputId": "7c1913be-c9f2-4e4f-ee9c-57ded4680924"
      },
      "execution_count": 4,
      "outputs": [
        {
          "output_type": "stream",
          "name": "stdout",
          "text": [
            "<class 'pandas.core.frame.DataFrame'>\n",
            "RangeIndex: 7109 entries, 0 to 7108\n",
            "Data columns (total 22 columns):\n",
            " #   Column         Non-Null Count  Dtype  \n",
            "---  ------         --------------  -----  \n",
            " 0   PRT_ID         7109 non-null   object \n",
            " 1   AREA           7109 non-null   object \n",
            " 2   INT_SQFT       7109 non-null   int64  \n",
            " 3   DATE_SALE      7109 non-null   object \n",
            " 4   DIST_MAINROAD  7109 non-null   int64  \n",
            " 5   N_BEDROOM      7108 non-null   float64\n",
            " 6   N_BATHROOM     7104 non-null   float64\n",
            " 7   N_ROOM         7109 non-null   int64  \n",
            " 8   SALE_COND      7109 non-null   object \n",
            " 9   PARK_FACIL     7109 non-null   object \n",
            " 10  DATE_BUILD     7109 non-null   object \n",
            " 11  BUILDTYPE      7109 non-null   object \n",
            " 12  UTILITY_AVAIL  7109 non-null   object \n",
            " 13  STREET         7109 non-null   object \n",
            " 14  MZZONE         7109 non-null   object \n",
            " 15  QS_ROOMS       7109 non-null   float64\n",
            " 16  QS_BATHROOM    7109 non-null   float64\n",
            " 17  QS_BEDROOM     7109 non-null   float64\n",
            " 18  QS_OVERALL     7061 non-null   float64\n",
            " 19  REG_FEE        7109 non-null   int64  \n",
            " 20  COMMIS         7109 non-null   int64  \n",
            " 21  SALES_PRICE    7109 non-null   int64  \n",
            "dtypes: float64(6), int64(6), object(10)\n",
            "memory usage: 1.2+ MB\n"
          ]
        }
      ]
    },
    {
      "cell_type": "code",
      "source": [
        "df.describe() #returns description of the data in the DataFrame"
      ],
      "metadata": {
        "colab": {
          "base_uri": "https://localhost:8080/",
          "height": 300
        },
        "id": "WYWp1GTFB1qN",
        "outputId": "22847c22-7f0c-4991-ee0a-1f7acc969f34"
      },
      "execution_count": 5,
      "outputs": [
        {
          "output_type": "execute_result",
          "data": {
            "text/plain": [
              "          INT_SQFT  DIST_MAINROAD    N_BEDROOM   N_BATHROOM       N_ROOM  \\\n",
              "count  7109.000000    7109.000000  7108.000000  7104.000000  7109.000000   \n",
              "mean   1382.073006      99.603179     1.637029     1.213260     3.688704   \n",
              "std     457.410902      57.403110     0.802902     0.409639     1.019099   \n",
              "min     500.000000       0.000000     1.000000     1.000000     2.000000   \n",
              "25%     993.000000      50.000000     1.000000     1.000000     3.000000   \n",
              "50%    1373.000000      99.000000     1.000000     1.000000     4.000000   \n",
              "75%    1744.000000     148.000000     2.000000     1.000000     4.000000   \n",
              "max    2500.000000     200.000000     4.000000     2.000000     6.000000   \n",
              "\n",
              "          QS_ROOMS  QS_BATHROOM   QS_BEDROOM   QS_OVERALL        REG_FEE  \\\n",
              "count  7109.000000  7109.000000  7109.000000  7061.000000    7109.000000   \n",
              "mean      3.517471     3.507244     3.485300     3.503254  376938.330708   \n",
              "std       0.891972     0.897834     0.887266     0.527223  143070.662010   \n",
              "min       2.000000     2.000000     2.000000     2.000000   71177.000000   \n",
              "25%       2.700000     2.700000     2.700000     3.130000  272406.000000   \n",
              "50%       3.500000     3.500000     3.500000     3.500000  349486.000000   \n",
              "75%       4.300000     4.300000     4.300000     3.890000  451562.000000   \n",
              "max       5.000000     5.000000     5.000000     4.970000  983922.000000   \n",
              "\n",
              "              COMMIS   SALES_PRICE  \n",
              "count    7109.000000  7.109000e+03  \n",
              "mean   141005.726544  1.089491e+07  \n",
              "std     78768.093718  3.768603e+06  \n",
              "min      5055.000000  2.156875e+06  \n",
              "25%     84219.000000  8.272100e+06  \n",
              "50%    127628.000000  1.033505e+07  \n",
              "75%    184506.000000  1.299390e+07  \n",
              "max    495405.000000  2.366734e+07  "
            ],
            "text/html": [
              "\n",
              "  <div id=\"df-94b33d60-10f1-4fda-9f89-87067db82565\">\n",
              "    <div class=\"colab-df-container\">\n",
              "      <div>\n",
              "<style scoped>\n",
              "    .dataframe tbody tr th:only-of-type {\n",
              "        vertical-align: middle;\n",
              "    }\n",
              "\n",
              "    .dataframe tbody tr th {\n",
              "        vertical-align: top;\n",
              "    }\n",
              "\n",
              "    .dataframe thead th {\n",
              "        text-align: right;\n",
              "    }\n",
              "</style>\n",
              "<table border=\"1\" class=\"dataframe\">\n",
              "  <thead>\n",
              "    <tr style=\"text-align: right;\">\n",
              "      <th></th>\n",
              "      <th>INT_SQFT</th>\n",
              "      <th>DIST_MAINROAD</th>\n",
              "      <th>N_BEDROOM</th>\n",
              "      <th>N_BATHROOM</th>\n",
              "      <th>N_ROOM</th>\n",
              "      <th>QS_ROOMS</th>\n",
              "      <th>QS_BATHROOM</th>\n",
              "      <th>QS_BEDROOM</th>\n",
              "      <th>QS_OVERALL</th>\n",
              "      <th>REG_FEE</th>\n",
              "      <th>COMMIS</th>\n",
              "      <th>SALES_PRICE</th>\n",
              "    </tr>\n",
              "  </thead>\n",
              "  <tbody>\n",
              "    <tr>\n",
              "      <th>count</th>\n",
              "      <td>7109.000000</td>\n",
              "      <td>7109.000000</td>\n",
              "      <td>7108.000000</td>\n",
              "      <td>7104.000000</td>\n",
              "      <td>7109.000000</td>\n",
              "      <td>7109.000000</td>\n",
              "      <td>7109.000000</td>\n",
              "      <td>7109.000000</td>\n",
              "      <td>7061.000000</td>\n",
              "      <td>7109.000000</td>\n",
              "      <td>7109.000000</td>\n",
              "      <td>7.109000e+03</td>\n",
              "    </tr>\n",
              "    <tr>\n",
              "      <th>mean</th>\n",
              "      <td>1382.073006</td>\n",
              "      <td>99.603179</td>\n",
              "      <td>1.637029</td>\n",
              "      <td>1.213260</td>\n",
              "      <td>3.688704</td>\n",
              "      <td>3.517471</td>\n",
              "      <td>3.507244</td>\n",
              "      <td>3.485300</td>\n",
              "      <td>3.503254</td>\n",
              "      <td>376938.330708</td>\n",
              "      <td>141005.726544</td>\n",
              "      <td>1.089491e+07</td>\n",
              "    </tr>\n",
              "    <tr>\n",
              "      <th>std</th>\n",
              "      <td>457.410902</td>\n",
              "      <td>57.403110</td>\n",
              "      <td>0.802902</td>\n",
              "      <td>0.409639</td>\n",
              "      <td>1.019099</td>\n",
              "      <td>0.891972</td>\n",
              "      <td>0.897834</td>\n",
              "      <td>0.887266</td>\n",
              "      <td>0.527223</td>\n",
              "      <td>143070.662010</td>\n",
              "      <td>78768.093718</td>\n",
              "      <td>3.768603e+06</td>\n",
              "    </tr>\n",
              "    <tr>\n",
              "      <th>min</th>\n",
              "      <td>500.000000</td>\n",
              "      <td>0.000000</td>\n",
              "      <td>1.000000</td>\n",
              "      <td>1.000000</td>\n",
              "      <td>2.000000</td>\n",
              "      <td>2.000000</td>\n",
              "      <td>2.000000</td>\n",
              "      <td>2.000000</td>\n",
              "      <td>2.000000</td>\n",
              "      <td>71177.000000</td>\n",
              "      <td>5055.000000</td>\n",
              "      <td>2.156875e+06</td>\n",
              "    </tr>\n",
              "    <tr>\n",
              "      <th>25%</th>\n",
              "      <td>993.000000</td>\n",
              "      <td>50.000000</td>\n",
              "      <td>1.000000</td>\n",
              "      <td>1.000000</td>\n",
              "      <td>3.000000</td>\n",
              "      <td>2.700000</td>\n",
              "      <td>2.700000</td>\n",
              "      <td>2.700000</td>\n",
              "      <td>3.130000</td>\n",
              "      <td>272406.000000</td>\n",
              "      <td>84219.000000</td>\n",
              "      <td>8.272100e+06</td>\n",
              "    </tr>\n",
              "    <tr>\n",
              "      <th>50%</th>\n",
              "      <td>1373.000000</td>\n",
              "      <td>99.000000</td>\n",
              "      <td>1.000000</td>\n",
              "      <td>1.000000</td>\n",
              "      <td>4.000000</td>\n",
              "      <td>3.500000</td>\n",
              "      <td>3.500000</td>\n",
              "      <td>3.500000</td>\n",
              "      <td>3.500000</td>\n",
              "      <td>349486.000000</td>\n",
              "      <td>127628.000000</td>\n",
              "      <td>1.033505e+07</td>\n",
              "    </tr>\n",
              "    <tr>\n",
              "      <th>75%</th>\n",
              "      <td>1744.000000</td>\n",
              "      <td>148.000000</td>\n",
              "      <td>2.000000</td>\n",
              "      <td>1.000000</td>\n",
              "      <td>4.000000</td>\n",
              "      <td>4.300000</td>\n",
              "      <td>4.300000</td>\n",
              "      <td>4.300000</td>\n",
              "      <td>3.890000</td>\n",
              "      <td>451562.000000</td>\n",
              "      <td>184506.000000</td>\n",
              "      <td>1.299390e+07</td>\n",
              "    </tr>\n",
              "    <tr>\n",
              "      <th>max</th>\n",
              "      <td>2500.000000</td>\n",
              "      <td>200.000000</td>\n",
              "      <td>4.000000</td>\n",
              "      <td>2.000000</td>\n",
              "      <td>6.000000</td>\n",
              "      <td>5.000000</td>\n",
              "      <td>5.000000</td>\n",
              "      <td>5.000000</td>\n",
              "      <td>4.970000</td>\n",
              "      <td>983922.000000</td>\n",
              "      <td>495405.000000</td>\n",
              "      <td>2.366734e+07</td>\n",
              "    </tr>\n",
              "  </tbody>\n",
              "</table>\n",
              "</div>\n",
              "      <button class=\"colab-df-convert\" onclick=\"convertToInteractive('df-94b33d60-10f1-4fda-9f89-87067db82565')\"\n",
              "              title=\"Convert this dataframe to an interactive table.\"\n",
              "              style=\"display:none;\">\n",
              "        \n",
              "  <svg xmlns=\"http://www.w3.org/2000/svg\" height=\"24px\"viewBox=\"0 0 24 24\"\n",
              "       width=\"24px\">\n",
              "    <path d=\"M0 0h24v24H0V0z\" fill=\"none\"/>\n",
              "    <path d=\"M18.56 5.44l.94 2.06.94-2.06 2.06-.94-2.06-.94-.94-2.06-.94 2.06-2.06.94zm-11 1L8.5 8.5l.94-2.06 2.06-.94-2.06-.94L8.5 2.5l-.94 2.06-2.06.94zm10 10l.94 2.06.94-2.06 2.06-.94-2.06-.94-.94-2.06-.94 2.06-2.06.94z\"/><path d=\"M17.41 7.96l-1.37-1.37c-.4-.4-.92-.59-1.43-.59-.52 0-1.04.2-1.43.59L10.3 9.45l-7.72 7.72c-.78.78-.78 2.05 0 2.83L4 21.41c.39.39.9.59 1.41.59.51 0 1.02-.2 1.41-.59l7.78-7.78 2.81-2.81c.8-.78.8-2.07 0-2.86zM5.41 20L4 18.59l7.72-7.72 1.47 1.35L5.41 20z\"/>\n",
              "  </svg>\n",
              "      </button>\n",
              "      \n",
              "  <style>\n",
              "    .colab-df-container {\n",
              "      display:flex;\n",
              "      flex-wrap:wrap;\n",
              "      gap: 12px;\n",
              "    }\n",
              "\n",
              "    .colab-df-convert {\n",
              "      background-color: #E8F0FE;\n",
              "      border: none;\n",
              "      border-radius: 50%;\n",
              "      cursor: pointer;\n",
              "      display: none;\n",
              "      fill: #1967D2;\n",
              "      height: 32px;\n",
              "      padding: 0 0 0 0;\n",
              "      width: 32px;\n",
              "    }\n",
              "\n",
              "    .colab-df-convert:hover {\n",
              "      background-color: #E2EBFA;\n",
              "      box-shadow: 0px 1px 2px rgba(60, 64, 67, 0.3), 0px 1px 3px 1px rgba(60, 64, 67, 0.15);\n",
              "      fill: #174EA6;\n",
              "    }\n",
              "\n",
              "    [theme=dark] .colab-df-convert {\n",
              "      background-color: #3B4455;\n",
              "      fill: #D2E3FC;\n",
              "    }\n",
              "\n",
              "    [theme=dark] .colab-df-convert:hover {\n",
              "      background-color: #434B5C;\n",
              "      box-shadow: 0px 1px 3px 1px rgba(0, 0, 0, 0.15);\n",
              "      filter: drop-shadow(0px 1px 2px rgba(0, 0, 0, 0.3));\n",
              "      fill: #FFFFFF;\n",
              "    }\n",
              "  </style>\n",
              "\n",
              "      <script>\n",
              "        const buttonEl =\n",
              "          document.querySelector('#df-94b33d60-10f1-4fda-9f89-87067db82565 button.colab-df-convert');\n",
              "        buttonEl.style.display =\n",
              "          google.colab.kernel.accessAllowed ? 'block' : 'none';\n",
              "\n",
              "        async function convertToInteractive(key) {\n",
              "          const element = document.querySelector('#df-94b33d60-10f1-4fda-9f89-87067db82565');\n",
              "          const dataTable =\n",
              "            await google.colab.kernel.invokeFunction('convertToInteractive',\n",
              "                                                     [key], {});\n",
              "          if (!dataTable) return;\n",
              "\n",
              "          const docLinkHtml = 'Like what you see? Visit the ' +\n",
              "            '<a target=\"_blank\" href=https://colab.research.google.com/notebooks/data_table.ipynb>data table notebook</a>'\n",
              "            + ' to learn more about interactive tables.';\n",
              "          element.innerHTML = '';\n",
              "          dataTable['output_type'] = 'display_data';\n",
              "          await google.colab.output.renderOutput(dataTable, element);\n",
              "          const docLink = document.createElement('div');\n",
              "          docLink.innerHTML = docLinkHtml;\n",
              "          element.appendChild(docLink);\n",
              "        }\n",
              "      </script>\n",
              "    </div>\n",
              "  </div>\n",
              "  "
            ]
          },
          "metadata": {},
          "execution_count": 5
        }
      ]
    },
    {
      "cell_type": "code",
      "source": [
        "df.isnull().sum() #returns the number of missing values in the data set."
      ],
      "metadata": {
        "colab": {
          "base_uri": "https://localhost:8080/"
        },
        "id": "Wt6PdMVAB1oH",
        "outputId": "6750d104-2421-4910-a1ff-784df6d14ebc"
      },
      "execution_count": 6,
      "outputs": [
        {
          "output_type": "execute_result",
          "data": {
            "text/plain": [
              "PRT_ID            0\n",
              "AREA              0\n",
              "INT_SQFT          0\n",
              "DATE_SALE         0\n",
              "DIST_MAINROAD     0\n",
              "N_BEDROOM         1\n",
              "N_BATHROOM        5\n",
              "N_ROOM            0\n",
              "SALE_COND         0\n",
              "PARK_FACIL        0\n",
              "DATE_BUILD        0\n",
              "BUILDTYPE         0\n",
              "UTILITY_AVAIL     0\n",
              "STREET            0\n",
              "MZZONE            0\n",
              "QS_ROOMS          0\n",
              "QS_BATHROOM       0\n",
              "QS_BEDROOM        0\n",
              "QS_OVERALL       48\n",
              "REG_FEE           0\n",
              "COMMIS            0\n",
              "SALES_PRICE       0\n",
              "dtype: int64"
            ]
          },
          "metadata": {},
          "execution_count": 6
        }
      ]
    },
    {
      "cell_type": "markdown",
      "source": [
        "## N_BEDROOM"
      ],
      "metadata": {
        "id": "WTTfh-fAIhy9"
      }
    },
    {
      "cell_type": "code",
      "source": [
        "print(df.loc[df['N_BEDROOM'].isnull(),'INT_SQFT'])\n",
        "print('\\n finding the average area of different bhk')\n",
        "print(df[['N_BEDROOM','INT_SQFT']].groupby('N_BEDROOM').mean())\n",
        "df['N_BEDROOM'].fillna(2,inplace=True) #in null bedroom values filling with 2bhk"
      ],
      "metadata": {
        "colab": {
          "base_uri": "https://localhost:8080/"
        },
        "id": "LYtZZVUsB1mB",
        "outputId": "a5b0ede7-7e68-43df-d537-486ab3fe1570"
      },
      "execution_count": 7,
      "outputs": [
        {
          "output_type": "stream",
          "name": "stdout",
          "text": [
            "4060    1556\n",
            "Name: INT_SQFT, dtype: int64\n",
            "\n",
            " finding the average area of different bhk\n",
            "              INT_SQFT\n",
            "N_BEDROOM             \n",
            "1.0        1078.015283\n",
            "2.0        1596.548044\n",
            "3.0        1947.609618\n",
            "4.0        2364.141732\n"
          ]
        }
      ]
    },
    {
      "cell_type": "markdown",
      "source": [
        "# N_BATHROOM"
      ],
      "metadata": {
        "id": "6DuoIQyJImar"
      }
    },
    {
      "cell_type": "code",
      "source": [
        "df[df['N_BATHROOM'].isnull()]\n",
        "print(df[['N_BEDROOM','N_BATHROOM']].groupby('N_BEDROOM').mean())\n",
        "print(df.loc[df['N_BEDROOM']==1,'N_BATHROOM'].isnull().sum())\n",
        "df['N_BATHROOM'].fillna(1,inplace=True) #in null bathroom values filling with 1 as most null values are 1bhk"
      ],
      "metadata": {
        "colab": {
          "base_uri": "https://localhost:8080/"
        },
        "id": "v_uJbnuGB1jt",
        "outputId": "22dbce1d-07f9-449b-fc86-fb052f669678"
      },
      "execution_count": 8,
      "outputs": [
        {
          "output_type": "stream",
          "name": "stdout",
          "text": [
            "           N_BATHROOM\n",
            "N_BEDROOM            \n",
            "1.0          1.000000\n",
            "2.0          1.235544\n",
            "3.0          2.000000\n",
            "4.0          2.000000\n",
            "4\n"
          ]
        }
      ]
    },
    {
      "cell_type": "markdown",
      "source": [
        "# QS_OVERALL"
      ],
      "metadata": {
        "id": "iL8T5snEKSkH"
      }
    },
    {
      "cell_type": "code",
      "source": [
        "df[df['QS_OVERALL'].isnull()]\n",
        "print(df[['N_BEDROOM','QS_OVERALL']].groupby('N_BEDROOM').mean())\n",
        "df['QS_OVERALL'].fillna(3.5,inplace=True) #since for all bhk is close to 3.5 we fill with 3.5"
      ],
      "metadata": {
        "colab": {
          "base_uri": "https://localhost:8080/"
        },
        "id": "R18eopvCB1he",
        "outputId": "b4b9629d-08a9-480a-88ff-f1f958a9d9a5"
      },
      "execution_count": 9,
      "outputs": [
        {
          "output_type": "stream",
          "name": "stdout",
          "text": [
            "           QS_OVERALL\n",
            "N_BEDROOM            \n",
            "1.0          3.495865\n",
            "2.0          3.512220\n",
            "3.0          3.502646\n",
            "4.0          3.532688\n"
          ]
        }
      ]
    },
    {
      "cell_type": "code",
      "source": [
        "df[df.duplicated()]\n",
        "print(\"No Duplicate Values\") #since there is no duplicate values in DataFrame\n"
      ],
      "metadata": {
        "colab": {
          "base_uri": "https://localhost:8080/"
        },
        "id": "AvppB5w1B1fO",
        "outputId": "9fad7e91-c976-46a6-9178-f3314284f9b0"
      },
      "execution_count": 10,
      "outputs": [
        {
          "output_type": "stream",
          "name": "stdout",
          "text": [
            "No Duplicate Values\n"
          ]
        }
      ]
    },
    {
      "cell_type": "markdown",
      "source": [
        "# Correcting the spelling mistakes in the DataFrame"
      ],
      "metadata": {
        "id": "vSsMGVlyL8lo"
      }
    },
    {
      "cell_type": "markdown",
      "source": [
        "### Correcting area names"
      ],
      "metadata": {
        "id": "nV2vCYJKRd4X"
      }
    },
    {
      "cell_type": "code",
      "source": [
        "df['AREA'].value_counts() #in this we can see we have 7 different areas into 17 different names\n",
        "df['AREA'].replace(to_replace=['Chrompt','Chrmpet','Chormpet'],value='Chrompet',inplace=True)\n",
        "df['AREA'].replace(to_replace=['Karapakam'],value='Karapakkam',inplace=True)\n",
        "df['AREA'].replace(to_replace=['KKNagar'],value='KK Nagar',inplace=True)\n",
        "df['AREA'].replace(to_replace=['Velchery'],value='Velachery',inplace=True)\n",
        "df['AREA'].replace(to_replace=['Ann Nagar','Ana Nagar'],value='Anna Nagar',inplace=True)\n",
        "df['AREA'].replace(to_replace=['Adyr'],value='Adyar',inplace=True)\n",
        "df['AREA'].replace(to_replace=['TNagar'],value='T Nagar',inplace=True)\n",
        "df['AREA'].value_counts() #after correction there are only 7 areas\n"
      ],
      "metadata": {
        "colab": {
          "base_uri": "https://localhost:8080/"
        },
        "id": "CjzNbqqPB1dU",
        "outputId": "bd7ac442-8cab-451d-b6e2-9e93d42e14d1"
      },
      "execution_count": 11,
      "outputs": [
        {
          "output_type": "execute_result",
          "data": {
            "text/plain": [
              "Chrompet      1702\n",
              "Karapakkam    1366\n",
              "KK Nagar       997\n",
              "Velachery      981\n",
              "Anna Nagar     788\n",
              "Adyar          774\n",
              "T Nagar        501\n",
              "Name: AREA, dtype: int64"
            ]
          },
          "metadata": {},
          "execution_count": 11
        }
      ]
    },
    {
      "cell_type": "markdown",
      "source": [
        "### Correcting SALE_COND"
      ],
      "metadata": {
        "id": "krdDe-D0RneV"
      }
    },
    {
      "cell_type": "code",
      "source": [
        "df['SALE_COND'].value_counts() #in this we can see 5 conditions into 9 \n",
        "df['SALE_COND'].replace(to_replace=['Partiall','PartiaLl'],value='Partial',inplace=True)\n",
        "df['SALE_COND'].replace(to_replace=['Adj Land'],value='AdjLand',inplace=True)\n",
        "df['SALE_COND'].replace(to_replace=['Ab Normal'],value='AbNormal',inplace=True)\n",
        "df['SALE_COND'].value_counts() #coverting 9 into 5 by correcting the spelling mistakes\n"
      ],
      "metadata": {
        "colab": {
          "base_uri": "https://localhost:8080/"
        },
        "id": "ltmuA1RiB1bP",
        "outputId": "bafa4a69-f323-4ba7-b91a-cd3b4c8c37e5"
      },
      "execution_count": 12,
      "outputs": [
        {
          "output_type": "execute_result",
          "data": {
            "text/plain": [
              "AdjLand        1439\n",
              "Partial        1433\n",
              "Normal Sale    1423\n",
              "AbNormal       1411\n",
              "Family         1403\n",
              "Name: SALE_COND, dtype: int64"
            ]
          },
          "metadata": {},
          "execution_count": 12
        }
      ]
    },
    {
      "cell_type": "markdown",
      "source": [],
      "metadata": {
        "id": "LpQUfCm5TSwM"
      }
    },
    {
      "cell_type": "markdown",
      "source": [
        "### PARK_FACIL"
      ],
      "metadata": {
        "id": "emyCi_CnVQoQ"
      }
    },
    {
      "cell_type": "code",
      "source": [
        "df['PARK_FACIL'].value_counts() #in this we can see we have 2 no values\n",
        "df['PARK_FACIL'].replace(to_replace=['Noo'],value='No',inplace=True)\n",
        "df['PARK_FACIL'].value_counts() #now we have only Yes and No\n"
      ],
      "metadata": {
        "colab": {
          "base_uri": "https://localhost:8080/"
        },
        "id": "crL4lRGvB1Y6",
        "outputId": "ddaeef43-0c7b-4c36-9d7c-c38bee8fb78a"
      },
      "execution_count": 13,
      "outputs": [
        {
          "output_type": "execute_result",
          "data": {
            "text/plain": [
              "Yes    3587\n",
              "No     3522\n",
              "Name: PARK_FACIL, dtype: int64"
            ]
          },
          "metadata": {},
          "execution_count": 13
        }
      ]
    },
    {
      "cell_type": "markdown",
      "source": [
        "### BUILD_TYPE"
      ],
      "metadata": {
        "id": "sydR0mfgWEhs"
      }
    },
    {
      "cell_type": "code",
      "source": [
        "df['BUILDTYPE'].value_counts() #in this we can see 3 proper names and 2 mistake ones\n",
        "df['BUILDTYPE'].replace(to_replace=['Comercial'],value='Commercial',inplace=True)\n",
        "df['BUILDTYPE'].replace(to_replace=['Other'],value='Others',inplace=True)\n",
        "df['BUILDTYPE'].value_counts() #now we have 3 proper BUILDTYPE"
      ],
      "metadata": {
        "colab": {
          "base_uri": "https://localhost:8080/"
        },
        "id": "isDnjIvtB1Wy",
        "outputId": "98a089b8-893d-4474-8792-7547a2edff08"
      },
      "execution_count": 14,
      "outputs": [
        {
          "output_type": "execute_result",
          "data": {
            "text/plain": [
              "House         2444\n",
              "Others        2336\n",
              "Commercial    2329\n",
              "Name: BUILDTYPE, dtype: int64"
            ]
          },
          "metadata": {},
          "execution_count": 14
        }
      ]
    },
    {
      "cell_type": "markdown",
      "source": [
        "### UTILITY_AVAIL"
      ],
      "metadata": {
        "id": "lkhB8AHReEjN"
      }
    },
    {
      "cell_type": "code",
      "source": [
        "df['UTILITY_AVAIL'].value_counts() #we have 3 proper names and 2 mistake ones\n",
        "df['UTILITY_AVAIL'].replace(to_replace=['All Pub'],value='AllPub',inplace=True)\n",
        "df['UTILITY_AVAIL'].replace(to_replace=['NoSeWa','NoSewr '],value='NoSewr',inplace=True)\n",
        "df['UTILITY_AVAIL'].value_counts() #now we have 3 proper UTILITY"
      ],
      "metadata": {
        "colab": {
          "base_uri": "https://localhost:8080/"
        },
        "id": "HTLwFGAQB1UV",
        "outputId": "e1f00a24-e12d-4c31-84e4-ad35874b848a"
      },
      "execution_count": 15,
      "outputs": [
        {
          "output_type": "execute_result",
          "data": {
            "text/plain": [
              "NoSewr    3700\n",
              "AllPub    1887\n",
              "ELO       1522\n",
              "Name: UTILITY_AVAIL, dtype: int64"
            ]
          },
          "metadata": {},
          "execution_count": 15
        }
      ]
    },
    {
      "cell_type": "markdown",
      "source": [
        "### STREET"
      ],
      "metadata": {
        "id": "ehtEtjrmh8KU"
      }
    },
    {
      "cell_type": "code",
      "source": [
        "df['STREET'].value_counts() #we have 3 proper names and 2 mistake ones\n",
        "df['STREET'].replace(to_replace=['Pavd'],value='Paved',inplace=True)\n",
        "df['STREET'].replace(to_replace=['NoAccess'],value='No Access',inplace=True)\n",
        "df['STREET'].value_counts() #now we have 3 proper STREET \n"
      ],
      "metadata": {
        "colab": {
          "base_uri": "https://localhost:8080/"
        },
        "id": "xgA5mL0GB1Rw",
        "outputId": "50ae69c7-7d57-493d-e0f8-63a11a3a419f"
      },
      "execution_count": 16,
      "outputs": [
        {
          "output_type": "execute_result",
          "data": {
            "text/plain": [
              "Paved        2572\n",
              "Gravel       2520\n",
              "No Access    2017\n",
              "Name: STREET, dtype: int64"
            ]
          },
          "metadata": {},
          "execution_count": 16
        }
      ]
    },
    {
      "cell_type": "markdown",
      "source": [
        "# Correcting the DATA TYPE"
      ],
      "metadata": {
        "id": "REu-5AFzpgiV"
      }
    },
    {
      "cell_type": "code",
      "source": [
        "df['DATE_BUILD']=df['DATE_BUILD'].astype('datetime64') #converting to datetime format\n",
        "df['DATE_SALE']=df['DATE_SALE'].astype('datetime64') #converting to datetime format \n",
        "df['DATE_BUILD']=df['DATE_BUILD'].dt.year\n",
        "df['DATE_SALE']=df['DATE_SALE'].dt.year\n",
        "df['N_BEDROOM']=df['N_BEDROOM'].astype('int64') #changing the feature into int\n",
        "df['N_BATHROOM']=df['N_BATHROOM'].astype('int64') #changing the feature into int"
      ],
      "metadata": {
        "id": "P8dl24c0psMa"
      },
      "execution_count": 17,
      "outputs": []
    },
    {
      "cell_type": "markdown",
      "source": [
        "# Creating a Age Column using DATESALE and DATEBUILD"
      ],
      "metadata": {
        "id": "bhSfILEDsCwM"
      }
    },
    {
      "cell_type": "code",
      "source": [
        "df['Age']=df['DATE_SALE']-df['DATE_BUILD'] #new age column has been added\n",
        "df"
      ],
      "metadata": {
        "colab": {
          "base_uri": "https://localhost:8080/",
          "height": 539
        },
        "id": "OtghIUyApsJk",
        "outputId": "7de39ba6-3eb2-4beb-f2c3-4ea242e63073"
      },
      "execution_count": 18,
      "outputs": [
        {
          "output_type": "execute_result",
          "data": {
            "text/plain": [
              "      PRT_ID        AREA  INT_SQFT  DATE_SALE  DIST_MAINROAD  N_BEDROOM  \\\n",
              "0     P03210  Karapakkam      1004       2011            131          1   \n",
              "1     P09411  Anna Nagar      1986       2006             26          2   \n",
              "2     P01812       Adyar       909       2012             70          1   \n",
              "3     P05346   Velachery      1855       2010             14          3   \n",
              "4     P06210  Karapakkam      1226       2009             84          1   \n",
              "...      ...         ...       ...        ...            ...        ...   \n",
              "7104  P03834  Karapakkam       598       2011             51          1   \n",
              "7105  P10000   Velachery      1897       2004             52          3   \n",
              "7106  P09594   Velachery      1614       2006            152          2   \n",
              "7107  P06508  Karapakkam       787       2009             40          1   \n",
              "7108  P09794   Velachery      1896       2005            156          3   \n",
              "\n",
              "      N_BATHROOM  N_ROOM    SALE_COND PARK_FACIL  DATE_BUILD   BUILDTYPE  \\\n",
              "0              1       3     AbNormal        Yes        1967  Commercial   \n",
              "1              1       5     AbNormal         No        1995  Commercial   \n",
              "2              1       3     AbNormal        Yes        1992  Commercial   \n",
              "3              2       5       Family         No        1988      Others   \n",
              "4              1       3     AbNormal        Yes        1979      Others   \n",
              "...          ...     ...          ...        ...         ...         ...   \n",
              "7104           1       2      AdjLand         No        1962      Others   \n",
              "7105           2       5       Family        Yes        1995      Others   \n",
              "7106           1       4  Normal Sale         No        1978       House   \n",
              "7107           1       2      Partial        Yes        1977  Commercial   \n",
              "7108           2       5      Partial        Yes        1961      Others   \n",
              "\n",
              "     UTILITY_AVAIL     STREET MZZONE  QS_ROOMS  QS_BATHROOM  QS_BEDROOM  \\\n",
              "0           AllPub      Paved      A       4.0          3.9         4.9   \n",
              "1           AllPub     Gravel     RH       4.9          4.2         2.5   \n",
              "2              ELO     Gravel     RL       4.1          3.8         2.2   \n",
              "3           NoSewr      Paved      I       4.7          3.9         3.6   \n",
              "4           AllPub     Gravel      C       3.0          2.5         4.1   \n",
              "...            ...        ...    ...       ...          ...         ...   \n",
              "7104           ELO  No Access     RM       3.0          2.2         2.4   \n",
              "7105        NoSewr  No Access     RH       3.6          4.5         3.3   \n",
              "7106        NoSewr     Gravel      I       4.3          4.2         2.9   \n",
              "7107           ELO      Paved     RL       4.6          3.8         4.1   \n",
              "7108           ELO      Paved      I       3.1          3.5         4.3   \n",
              "\n",
              "      QS_OVERALL  REG_FEE  COMMIS  SALES_PRICE  Age  \n",
              "0          4.330   380000  144400      7600000   44  \n",
              "1          3.765   760122  304049     21717770   11  \n",
              "2          3.090   421094   92114     13159200   20  \n",
              "3          4.010   356321   77042      9630290   22  \n",
              "4          3.290   237000   74063      7406250   30  \n",
              "...          ...      ...     ...          ...  ...  \n",
              "7104       2.520   208767  107060      5353000   49  \n",
              "7105       3.920   346191  205551     10818480    9  \n",
              "7106       3.840   317354  167028      8351410   28  \n",
              "7107       4.160   425350  119098      8507000   32  \n",
              "7108       3.640   349177   79812      9976480   44  \n",
              "\n",
              "[7109 rows x 23 columns]"
            ],
            "text/html": [
              "\n",
              "  <div id=\"df-ace6b667-d89a-4502-8499-e13752b6b488\">\n",
              "    <div class=\"colab-df-container\">\n",
              "      <div>\n",
              "<style scoped>\n",
              "    .dataframe tbody tr th:only-of-type {\n",
              "        vertical-align: middle;\n",
              "    }\n",
              "\n",
              "    .dataframe tbody tr th {\n",
              "        vertical-align: top;\n",
              "    }\n",
              "\n",
              "    .dataframe thead th {\n",
              "        text-align: right;\n",
              "    }\n",
              "</style>\n",
              "<table border=\"1\" class=\"dataframe\">\n",
              "  <thead>\n",
              "    <tr style=\"text-align: right;\">\n",
              "      <th></th>\n",
              "      <th>PRT_ID</th>\n",
              "      <th>AREA</th>\n",
              "      <th>INT_SQFT</th>\n",
              "      <th>DATE_SALE</th>\n",
              "      <th>DIST_MAINROAD</th>\n",
              "      <th>N_BEDROOM</th>\n",
              "      <th>N_BATHROOM</th>\n",
              "      <th>N_ROOM</th>\n",
              "      <th>SALE_COND</th>\n",
              "      <th>PARK_FACIL</th>\n",
              "      <th>DATE_BUILD</th>\n",
              "      <th>BUILDTYPE</th>\n",
              "      <th>UTILITY_AVAIL</th>\n",
              "      <th>STREET</th>\n",
              "      <th>MZZONE</th>\n",
              "      <th>QS_ROOMS</th>\n",
              "      <th>QS_BATHROOM</th>\n",
              "      <th>QS_BEDROOM</th>\n",
              "      <th>QS_OVERALL</th>\n",
              "      <th>REG_FEE</th>\n",
              "      <th>COMMIS</th>\n",
              "      <th>SALES_PRICE</th>\n",
              "      <th>Age</th>\n",
              "    </tr>\n",
              "  </thead>\n",
              "  <tbody>\n",
              "    <tr>\n",
              "      <th>0</th>\n",
              "      <td>P03210</td>\n",
              "      <td>Karapakkam</td>\n",
              "      <td>1004</td>\n",
              "      <td>2011</td>\n",
              "      <td>131</td>\n",
              "      <td>1</td>\n",
              "      <td>1</td>\n",
              "      <td>3</td>\n",
              "      <td>AbNormal</td>\n",
              "      <td>Yes</td>\n",
              "      <td>1967</td>\n",
              "      <td>Commercial</td>\n",
              "      <td>AllPub</td>\n",
              "      <td>Paved</td>\n",
              "      <td>A</td>\n",
              "      <td>4.0</td>\n",
              "      <td>3.9</td>\n",
              "      <td>4.9</td>\n",
              "      <td>4.330</td>\n",
              "      <td>380000</td>\n",
              "      <td>144400</td>\n",
              "      <td>7600000</td>\n",
              "      <td>44</td>\n",
              "    </tr>\n",
              "    <tr>\n",
              "      <th>1</th>\n",
              "      <td>P09411</td>\n",
              "      <td>Anna Nagar</td>\n",
              "      <td>1986</td>\n",
              "      <td>2006</td>\n",
              "      <td>26</td>\n",
              "      <td>2</td>\n",
              "      <td>1</td>\n",
              "      <td>5</td>\n",
              "      <td>AbNormal</td>\n",
              "      <td>No</td>\n",
              "      <td>1995</td>\n",
              "      <td>Commercial</td>\n",
              "      <td>AllPub</td>\n",
              "      <td>Gravel</td>\n",
              "      <td>RH</td>\n",
              "      <td>4.9</td>\n",
              "      <td>4.2</td>\n",
              "      <td>2.5</td>\n",
              "      <td>3.765</td>\n",
              "      <td>760122</td>\n",
              "      <td>304049</td>\n",
              "      <td>21717770</td>\n",
              "      <td>11</td>\n",
              "    </tr>\n",
              "    <tr>\n",
              "      <th>2</th>\n",
              "      <td>P01812</td>\n",
              "      <td>Adyar</td>\n",
              "      <td>909</td>\n",
              "      <td>2012</td>\n",
              "      <td>70</td>\n",
              "      <td>1</td>\n",
              "      <td>1</td>\n",
              "      <td>3</td>\n",
              "      <td>AbNormal</td>\n",
              "      <td>Yes</td>\n",
              "      <td>1992</td>\n",
              "      <td>Commercial</td>\n",
              "      <td>ELO</td>\n",
              "      <td>Gravel</td>\n",
              "      <td>RL</td>\n",
              "      <td>4.1</td>\n",
              "      <td>3.8</td>\n",
              "      <td>2.2</td>\n",
              "      <td>3.090</td>\n",
              "      <td>421094</td>\n",
              "      <td>92114</td>\n",
              "      <td>13159200</td>\n",
              "      <td>20</td>\n",
              "    </tr>\n",
              "    <tr>\n",
              "      <th>3</th>\n",
              "      <td>P05346</td>\n",
              "      <td>Velachery</td>\n",
              "      <td>1855</td>\n",
              "      <td>2010</td>\n",
              "      <td>14</td>\n",
              "      <td>3</td>\n",
              "      <td>2</td>\n",
              "      <td>5</td>\n",
              "      <td>Family</td>\n",
              "      <td>No</td>\n",
              "      <td>1988</td>\n",
              "      <td>Others</td>\n",
              "      <td>NoSewr</td>\n",
              "      <td>Paved</td>\n",
              "      <td>I</td>\n",
              "      <td>4.7</td>\n",
              "      <td>3.9</td>\n",
              "      <td>3.6</td>\n",
              "      <td>4.010</td>\n",
              "      <td>356321</td>\n",
              "      <td>77042</td>\n",
              "      <td>9630290</td>\n",
              "      <td>22</td>\n",
              "    </tr>\n",
              "    <tr>\n",
              "      <th>4</th>\n",
              "      <td>P06210</td>\n",
              "      <td>Karapakkam</td>\n",
              "      <td>1226</td>\n",
              "      <td>2009</td>\n",
              "      <td>84</td>\n",
              "      <td>1</td>\n",
              "      <td>1</td>\n",
              "      <td>3</td>\n",
              "      <td>AbNormal</td>\n",
              "      <td>Yes</td>\n",
              "      <td>1979</td>\n",
              "      <td>Others</td>\n",
              "      <td>AllPub</td>\n",
              "      <td>Gravel</td>\n",
              "      <td>C</td>\n",
              "      <td>3.0</td>\n",
              "      <td>2.5</td>\n",
              "      <td>4.1</td>\n",
              "      <td>3.290</td>\n",
              "      <td>237000</td>\n",
              "      <td>74063</td>\n",
              "      <td>7406250</td>\n",
              "      <td>30</td>\n",
              "    </tr>\n",
              "    <tr>\n",
              "      <th>...</th>\n",
              "      <td>...</td>\n",
              "      <td>...</td>\n",
              "      <td>...</td>\n",
              "      <td>...</td>\n",
              "      <td>...</td>\n",
              "      <td>...</td>\n",
              "      <td>...</td>\n",
              "      <td>...</td>\n",
              "      <td>...</td>\n",
              "      <td>...</td>\n",
              "      <td>...</td>\n",
              "      <td>...</td>\n",
              "      <td>...</td>\n",
              "      <td>...</td>\n",
              "      <td>...</td>\n",
              "      <td>...</td>\n",
              "      <td>...</td>\n",
              "      <td>...</td>\n",
              "      <td>...</td>\n",
              "      <td>...</td>\n",
              "      <td>...</td>\n",
              "      <td>...</td>\n",
              "      <td>...</td>\n",
              "    </tr>\n",
              "    <tr>\n",
              "      <th>7104</th>\n",
              "      <td>P03834</td>\n",
              "      <td>Karapakkam</td>\n",
              "      <td>598</td>\n",
              "      <td>2011</td>\n",
              "      <td>51</td>\n",
              "      <td>1</td>\n",
              "      <td>1</td>\n",
              "      <td>2</td>\n",
              "      <td>AdjLand</td>\n",
              "      <td>No</td>\n",
              "      <td>1962</td>\n",
              "      <td>Others</td>\n",
              "      <td>ELO</td>\n",
              "      <td>No Access</td>\n",
              "      <td>RM</td>\n",
              "      <td>3.0</td>\n",
              "      <td>2.2</td>\n",
              "      <td>2.4</td>\n",
              "      <td>2.520</td>\n",
              "      <td>208767</td>\n",
              "      <td>107060</td>\n",
              "      <td>5353000</td>\n",
              "      <td>49</td>\n",
              "    </tr>\n",
              "    <tr>\n",
              "      <th>7105</th>\n",
              "      <td>P10000</td>\n",
              "      <td>Velachery</td>\n",
              "      <td>1897</td>\n",
              "      <td>2004</td>\n",
              "      <td>52</td>\n",
              "      <td>3</td>\n",
              "      <td>2</td>\n",
              "      <td>5</td>\n",
              "      <td>Family</td>\n",
              "      <td>Yes</td>\n",
              "      <td>1995</td>\n",
              "      <td>Others</td>\n",
              "      <td>NoSewr</td>\n",
              "      <td>No Access</td>\n",
              "      <td>RH</td>\n",
              "      <td>3.6</td>\n",
              "      <td>4.5</td>\n",
              "      <td>3.3</td>\n",
              "      <td>3.920</td>\n",
              "      <td>346191</td>\n",
              "      <td>205551</td>\n",
              "      <td>10818480</td>\n",
              "      <td>9</td>\n",
              "    </tr>\n",
              "    <tr>\n",
              "      <th>7106</th>\n",
              "      <td>P09594</td>\n",
              "      <td>Velachery</td>\n",
              "      <td>1614</td>\n",
              "      <td>2006</td>\n",
              "      <td>152</td>\n",
              "      <td>2</td>\n",
              "      <td>1</td>\n",
              "      <td>4</td>\n",
              "      <td>Normal Sale</td>\n",
              "      <td>No</td>\n",
              "      <td>1978</td>\n",
              "      <td>House</td>\n",
              "      <td>NoSewr</td>\n",
              "      <td>Gravel</td>\n",
              "      <td>I</td>\n",
              "      <td>4.3</td>\n",
              "      <td>4.2</td>\n",
              "      <td>2.9</td>\n",
              "      <td>3.840</td>\n",
              "      <td>317354</td>\n",
              "      <td>167028</td>\n",
              "      <td>8351410</td>\n",
              "      <td>28</td>\n",
              "    </tr>\n",
              "    <tr>\n",
              "      <th>7107</th>\n",
              "      <td>P06508</td>\n",
              "      <td>Karapakkam</td>\n",
              "      <td>787</td>\n",
              "      <td>2009</td>\n",
              "      <td>40</td>\n",
              "      <td>1</td>\n",
              "      <td>1</td>\n",
              "      <td>2</td>\n",
              "      <td>Partial</td>\n",
              "      <td>Yes</td>\n",
              "      <td>1977</td>\n",
              "      <td>Commercial</td>\n",
              "      <td>ELO</td>\n",
              "      <td>Paved</td>\n",
              "      <td>RL</td>\n",
              "      <td>4.6</td>\n",
              "      <td>3.8</td>\n",
              "      <td>4.1</td>\n",
              "      <td>4.160</td>\n",
              "      <td>425350</td>\n",
              "      <td>119098</td>\n",
              "      <td>8507000</td>\n",
              "      <td>32</td>\n",
              "    </tr>\n",
              "    <tr>\n",
              "      <th>7108</th>\n",
              "      <td>P09794</td>\n",
              "      <td>Velachery</td>\n",
              "      <td>1896</td>\n",
              "      <td>2005</td>\n",
              "      <td>156</td>\n",
              "      <td>3</td>\n",
              "      <td>2</td>\n",
              "      <td>5</td>\n",
              "      <td>Partial</td>\n",
              "      <td>Yes</td>\n",
              "      <td>1961</td>\n",
              "      <td>Others</td>\n",
              "      <td>ELO</td>\n",
              "      <td>Paved</td>\n",
              "      <td>I</td>\n",
              "      <td>3.1</td>\n",
              "      <td>3.5</td>\n",
              "      <td>4.3</td>\n",
              "      <td>3.640</td>\n",
              "      <td>349177</td>\n",
              "      <td>79812</td>\n",
              "      <td>9976480</td>\n",
              "      <td>44</td>\n",
              "    </tr>\n",
              "  </tbody>\n",
              "</table>\n",
              "<p>7109 rows × 23 columns</p>\n",
              "</div>\n",
              "      <button class=\"colab-df-convert\" onclick=\"convertToInteractive('df-ace6b667-d89a-4502-8499-e13752b6b488')\"\n",
              "              title=\"Convert this dataframe to an interactive table.\"\n",
              "              style=\"display:none;\">\n",
              "        \n",
              "  <svg xmlns=\"http://www.w3.org/2000/svg\" height=\"24px\"viewBox=\"0 0 24 24\"\n",
              "       width=\"24px\">\n",
              "    <path d=\"M0 0h24v24H0V0z\" fill=\"none\"/>\n",
              "    <path d=\"M18.56 5.44l.94 2.06.94-2.06 2.06-.94-2.06-.94-.94-2.06-.94 2.06-2.06.94zm-11 1L8.5 8.5l.94-2.06 2.06-.94-2.06-.94L8.5 2.5l-.94 2.06-2.06.94zm10 10l.94 2.06.94-2.06 2.06-.94-2.06-.94-.94-2.06-.94 2.06-2.06.94z\"/><path d=\"M17.41 7.96l-1.37-1.37c-.4-.4-.92-.59-1.43-.59-.52 0-1.04.2-1.43.59L10.3 9.45l-7.72 7.72c-.78.78-.78 2.05 0 2.83L4 21.41c.39.39.9.59 1.41.59.51 0 1.02-.2 1.41-.59l7.78-7.78 2.81-2.81c.8-.78.8-2.07 0-2.86zM5.41 20L4 18.59l7.72-7.72 1.47 1.35L5.41 20z\"/>\n",
              "  </svg>\n",
              "      </button>\n",
              "      \n",
              "  <style>\n",
              "    .colab-df-container {\n",
              "      display:flex;\n",
              "      flex-wrap:wrap;\n",
              "      gap: 12px;\n",
              "    }\n",
              "\n",
              "    .colab-df-convert {\n",
              "      background-color: #E8F0FE;\n",
              "      border: none;\n",
              "      border-radius: 50%;\n",
              "      cursor: pointer;\n",
              "      display: none;\n",
              "      fill: #1967D2;\n",
              "      height: 32px;\n",
              "      padding: 0 0 0 0;\n",
              "      width: 32px;\n",
              "    }\n",
              "\n",
              "    .colab-df-convert:hover {\n",
              "      background-color: #E2EBFA;\n",
              "      box-shadow: 0px 1px 2px rgba(60, 64, 67, 0.3), 0px 1px 3px 1px rgba(60, 64, 67, 0.15);\n",
              "      fill: #174EA6;\n",
              "    }\n",
              "\n",
              "    [theme=dark] .colab-df-convert {\n",
              "      background-color: #3B4455;\n",
              "      fill: #D2E3FC;\n",
              "    }\n",
              "\n",
              "    [theme=dark] .colab-df-convert:hover {\n",
              "      background-color: #434B5C;\n",
              "      box-shadow: 0px 1px 3px 1px rgba(0, 0, 0, 0.15);\n",
              "      filter: drop-shadow(0px 1px 2px rgba(0, 0, 0, 0.3));\n",
              "      fill: #FFFFFF;\n",
              "    }\n",
              "  </style>\n",
              "\n",
              "      <script>\n",
              "        const buttonEl =\n",
              "          document.querySelector('#df-ace6b667-d89a-4502-8499-e13752b6b488 button.colab-df-convert');\n",
              "        buttonEl.style.display =\n",
              "          google.colab.kernel.accessAllowed ? 'block' : 'none';\n",
              "\n",
              "        async function convertToInteractive(key) {\n",
              "          const element = document.querySelector('#df-ace6b667-d89a-4502-8499-e13752b6b488');\n",
              "          const dataTable =\n",
              "            await google.colab.kernel.invokeFunction('convertToInteractive',\n",
              "                                                     [key], {});\n",
              "          if (!dataTable) return;\n",
              "\n",
              "          const docLinkHtml = 'Like what you see? Visit the ' +\n",
              "            '<a target=\"_blank\" href=https://colab.research.google.com/notebooks/data_table.ipynb>data table notebook</a>'\n",
              "            + ' to learn more about interactive tables.';\n",
              "          element.innerHTML = '';\n",
              "          dataTable['output_type'] = 'display_data';\n",
              "          await google.colab.output.renderOutput(dataTable, element);\n",
              "          const docLink = document.createElement('div');\n",
              "          docLink.innerHTML = docLinkHtml;\n",
              "          element.appendChild(docLink);\n",
              "        }\n",
              "      </script>\n",
              "    </div>\n",
              "  </div>\n",
              "  "
            ]
          },
          "metadata": {},
          "execution_count": 18
        }
      ]
    },
    {
      "cell_type": "markdown",
      "source": [
        "# EDA - Exploratory Data Analysis"
      ],
      "metadata": {
        "id": "cLOcFJYss_kJ"
      }
    },
    {
      "cell_type": "code",
      "source": [
        "import seaborn as sns #importing seaborn for data visualization\n"
      ],
      "metadata": {
        "id": "uiAjYFcKpsG_"
      },
      "execution_count": 19,
      "outputs": []
    },
    {
      "cell_type": "markdown",
      "source": [
        "### AREA VS SALES_PRICE"
      ],
      "metadata": {
        "id": "N_4BjXl8BzUT"
      }
    },
    {
      "cell_type": "code",
      "source": [
        "area_val={'Karapakkam':0,'Adyar':1,'Chrompet':2,'Velachery':3,'KK Nagar':4,'Anna Nagar':5,'T Nagar':6} #performing label encoding\n",
        "df['AREA']=df['AREA'].map(area_val)\n",
        "areavsale=df[['AREA','SALES_PRICE']].groupby('AREA').mean().reset_index().sort_values('SALES_PRICE')\n",
        "areavsale\n",
        "sns.barplot(x='AREA',y='SALES_PRICE',data=areavsale) #ploting AREA and SALES_PRICE"
      ],
      "metadata": {
        "colab": {
          "base_uri": "https://localhost:8080/",
          "height": 308
        },
        "id": "K5LHXn3GBu9i",
        "outputId": "5d86a1cc-e374-45a8-e276-42e6784a37f2"
      },
      "execution_count": 20,
      "outputs": [
        {
          "output_type": "execute_result",
          "data": {
            "text/plain": [
              "<matplotlib.axes._subplots.AxesSubplot at 0x7f2e6065cf50>"
            ]
          },
          "metadata": {},
          "execution_count": 20
        },
        {
          "output_type": "display_data",
          "data": {
            "text/plain": [
              "<Figure size 432x288 with 1 Axes>"
            ],
            "image/png": "[encoded data removed]"
          },
          "metadata": {
            "needs_background": "light"
          }
        }
      ]
    },
    {
      "cell_type": "markdown",
      "source": [],
      "metadata": {
        "id": "lthH9sHSB7Jf"
      }
    },
    {
      "cell_type": "markdown",
      "source": [
        "### SALE_COND VS SALES_PRICE"
      ],
      "metadata": {
        "id": "HD3fugGKCUyc"
      }
    },
    {
      "cell_type": "code",
      "source": [
        "scondvsale=df[['SALE_COND','SALES_PRICE']].groupby('SALE_COND').mean().reset_index().sort_values('SALES_PRICE')\n",
        "scondvsale\n",
        "sns.barplot(x='SALE_COND',y='SALES_PRICE',data=scondvsale)#ploting graph between sale condition and average sales price\n",
        "df.drop('SALE_COND',axis=1,inplace=True) #since it the sale_cond is not releated with sales price we drop the column "
      ],
      "metadata": {
        "colab": {
          "base_uri": "https://localhost:8080/",
          "height": 291
        },
        "id": "fjg3zYp_pr-u",
        "outputId": "d6d9b006-dfac-44b6-b08e-ced9215bb4a0"
      },
      "execution_count": 21,
      "outputs": [
        {
          "output_type": "display_data",
          "data": {
            "text/plain": [
              "<Figure size 432x288 with 1 Axes>"
            ],
            "image/png": "[encoded data removed]"
          },
          "metadata": {
            "needs_background": "light"
          }
        }
      ]
    },
    {
      "cell_type": "markdown",
      "source": [
        "### PARK_FACIL VS SALES_PRICE"
      ],
      "metadata": {
        "id": "zaqc9pcACpZu"
      }
    },
    {
      "cell_type": "code",
      "source": [
        "park_val={'No':0,'Yes':1} #performing label encoding for PARK_FACIL yes=1 and no=0\n",
        "df['PARK_FACIL']=df['PARK_FACIL'].map(park_val)\n",
        "parkvsale=df[['PARK_FACIL','SALES_PRICE']].groupby('PARK_FACIL').mean().reset_index().sort_values('SALES_PRICE')\n",
        "parkvsale\n",
        "sns.barplot(x='PARK_FACIL',y='SALES_PRICE',data=parkvsale)"
      ],
      "metadata": {
        "colab": {
          "base_uri": "https://localhost:8080/",
          "height": 309
        },
        "id": "ZkpRKWqrpr7-",
        "outputId": "f81312f0-3ead-4e2f-f3d9-511c588022bc"
      },
      "execution_count": 22,
      "outputs": [
        {
          "output_type": "execute_result",
          "data": {
            "text/plain": [
              "<matplotlib.axes._subplots.AxesSubplot at 0x7f2e53cfbf10>"
            ]
          },
          "metadata": {},
          "execution_count": 22
        },
        {
          "output_type": "display_data",
          "data": {
            "text/plain": [
              "<Figure size 432x288 with 1 Axes>"
            ],
            "image/png": "[encoded data removed]"
          },
          "metadata": {
            "needs_background": "light"
          }
        }
      ]
    },
    {
      "cell_type": "markdown",
      "source": [
        "### BUILD_TYPE VS SALES_PRICE\n"
      ],
      "metadata": {
        "id": "lY-OIsIhCyuy"
      }
    },
    {
      "cell_type": "code",
      "source": [
        "btypevsale=df[['BUILDTYPE','SALES_PRICE']].groupby('BUILDTYPE').mean().reset_index().sort_values('SALES_PRICE')\n",
        "btypevsale\n",
        "sns.barplot(x='BUILDTYPE',y='SALES_PRICE',data=btypevsale)"
      ],
      "metadata": {
        "colab": {
          "base_uri": "https://localhost:8080/",
          "height": 308
        },
        "id": "gbe7JwkQpr5L",
        "outputId": "0b5da697-799f-4b96-da19-2eae4195dbc1"
      },
      "execution_count": 23,
      "outputs": [
        {
          "output_type": "execute_result",
          "data": {
            "text/plain": [
              "<matplotlib.axes._subplots.AxesSubplot at 0x7f2e53d7b310>"
            ]
          },
          "metadata": {},
          "execution_count": 23
        },
        {
          "output_type": "display_data",
          "data": {
            "text/plain": [
              "<Figure size 432x288 with 1 Axes>"
            ],
            "image/png": "[encoded data removed]"
          },
          "metadata": {
            "needs_background": "light"
          }
        }
      ]
    },
    {
      "cell_type": "code",
      "source": [
        "df=pd.get_dummies(df,columns=['BUILDTYPE'])\n",
        "df.drop(columns=['BUILDTYPE_Others'],axis=1,inplace=True) #perfoming one hot encoding to prepare for better predection"
      ],
      "metadata": {
        "id": "XHjMdt2Gpr2i"
      },
      "execution_count": 24,
      "outputs": []
    },
    {
      "cell_type": "markdown",
      "source": [
        "### UTILITY_AVIL VS SALES_PRICE"
      ],
      "metadata": {
        "id": "ELeS7h8AEMJR"
      }
    },
    {
      "cell_type": "code",
      "source": [
        "utilvsale=df[['UTILITY_AVAIL','SALES_PRICE']].groupby('UTILITY_AVAIL').mean().reset_index().sort_values('SALES_PRICE')\n",
        "utilvsale\n",
        "sns.barplot(x='UTILITY_AVAIL',y='SALES_PRICE',data=utilvsale) #plotting between Utility_Avil adn Sales_Price \n",
        "                                                              #UTILITY_AVIL is linearly related with SALES_PRICE"
      ],
      "metadata": {
        "colab": {
          "base_uri": "https://localhost:8080/",
          "height": 309
        },
        "id": "isHWcGIZprz4",
        "outputId": "698bb3a7-6583-4031-dd43-3f7d856a9dbd"
      },
      "execution_count": 25,
      "outputs": [
        {
          "output_type": "execute_result",
          "data": {
            "text/plain": [
              "<matplotlib.axes._subplots.AxesSubplot at 0x7f2e53cd6fd0>"
            ]
          },
          "metadata": {},
          "execution_count": 25
        },
        {
          "output_type": "display_data",
          "data": {
            "text/plain": [
              "<Figure size 432x288 with 1 Axes>"
            ],
            "image/png": "[encoded data removed]"
          },
          "metadata": {
            "needs_background": "light"
          }
        }
      ]
    },
    {
      "cell_type": "code",
      "source": [
        "util_val={'ELO':0,'NoSewr':1,'AllPub':2}\n",
        "df['UTILITY_AVAIL']=df['UTILITY_AVAIL'].map(util_val) #performing label encoding to fit into Regression Model\n",
        "util_val"
      ],
      "metadata": {
        "colab": {
          "base_uri": "https://localhost:8080/"
        },
        "id": "Kwr11Sz4prxR",
        "outputId": "57f958ae-6e13-4d57-f0aa-dffb5c3b6dc1"
      },
      "execution_count": 26,
      "outputs": [
        {
          "output_type": "execute_result",
          "data": {
            "text/plain": [
              "{'ELO': 0, 'NoSewr': 1, 'AllPub': 2}"
            ]
          },
          "metadata": {},
          "execution_count": 26
        }
      ]
    },
    {
      "cell_type": "markdown",
      "source": [
        "### STREET VS SALES_PRICE"
      ],
      "metadata": {
        "id": "vMwjWmqcy9Ow"
      }
    },
    {
      "cell_type": "code",
      "source": [
        "streetvsale=df[['STREET','SALES_PRICE']].groupby('STREET').mean().reset_index().sort_values('SALES_PRICE')\n",
        "streetvsale\n",
        "sns.barplot(x='STREET',y='SALES_PRICE',data=streetvsale) #plotting between the street and sales_price\n",
        "                                                         #Street is linearly releated with sales_price"
      ],
      "metadata": {
        "colab": {
          "base_uri": "https://localhost:8080/",
          "height": 308
        },
        "id": "p45mp3UHpruu",
        "outputId": "c596a298-75bf-4ec2-8d9c-2c31d848f9c2"
      },
      "execution_count": 27,
      "outputs": [
        {
          "output_type": "execute_result",
          "data": {
            "text/plain": [
              "<matplotlib.axes._subplots.AxesSubplot at 0x7f2e53d71510>"
            ]
          },
          "metadata": {},
          "execution_count": 27
        },
        {
          "output_type": "display_data",
          "data": {
            "text/plain": [
              "<Figure size 432x288 with 1 Axes>"
            ],
            "image/png": "[encoded data removed]"
          },
          "metadata": {
            "needs_background": "light"
          }
        }
      ]
    },
    {
      "cell_type": "code",
      "source": [
        "street_val={'No Access':0,'Paved':1,'Gravel':2} #performing label encoding\n",
        "df['STREET']=df['STREET'].map(street_val)"
      ],
      "metadata": {
        "id": "Jg9-lWejprr_"
      },
      "execution_count": 28,
      "outputs": []
    },
    {
      "cell_type": "markdown",
      "source": [
        "### MZZONE VS SALES_PRICE"
      ],
      "metadata": {
        "id": "KjjeBwTRztrY"
      }
    },
    {
      "cell_type": "code",
      "source": [
        "mzzonevsale=df[['MZZONE','SALES_PRICE']].groupby('MZZONE').mean().reset_index().sort_values('SALES_PRICE')\n",
        "mzzonevsale\n",
        "sns.barplot(x='MZZONE',y='SALES_PRICE',data=mzzonevsale)"
      ],
      "metadata": {
        "colab": {
          "base_uri": "https://localhost:8080/",
          "height": 308
        },
        "id": "x5ku9XMbprpt",
        "outputId": "b903da54-39f7-4ddb-a813-5a325b902843"
      },
      "execution_count": 29,
      "outputs": [
        {
          "output_type": "execute_result",
          "data": {
            "text/plain": [
              "<matplotlib.axes._subplots.AxesSubplot at 0x7f2e53bc1bd0>"
            ]
          },
          "metadata": {},
          "execution_count": 29
        },
        {
          "output_type": "display_data",
          "data": {
            "text/plain": [
              "<Figure size 432x288 with 1 Axes>"
            ],
            "image/png": "[encoded data removed]"
          },
          "metadata": {
            "needs_background": "light"
          }
        }
      ]
    },
    {
      "cell_type": "code",
      "source": [
        "mzzone_val={'A':0,'C':1,'I':2,'RH':4,'RL':5,'RM':6} #performing label encoding\n",
        "df['MZZONE']=df['MZZONE'].map(mzzone_val)"
      ],
      "metadata": {
        "id": "rMjbgPlIprn8"
      },
      "execution_count": 30,
      "outputs": []
    },
    {
      "cell_type": "markdown",
      "source": [
        "### DROPPING REG_FEE AND COMMIS"
      ],
      "metadata": {
        "id": "rvpBGz4o1wvv"
      }
    },
    {
      "cell_type": "code",
      "source": [
        "df.drop(columns=['REG_FEE','COMMIS','PRT_ID'],axis=1,inplace=True) #dropping reg fee and commis hence it cant be predicted and used\n",
        "df.info()\n"
      ],
      "metadata": {
        "colab": {
          "base_uri": "https://localhost:8080/"
        },
        "id": "udBdsWCGprl5",
        "outputId": "70a45c0a-5c3d-4d20-e1bc-c752a163db39"
      },
      "execution_count": 31,
      "outputs": [
        {
          "output_type": "stream",
          "name": "stdout",
          "text": [
            "<class 'pandas.core.frame.DataFrame'>\n",
            "RangeIndex: 7109 entries, 0 to 7108\n",
            "Data columns (total 20 columns):\n",
            " #   Column                Non-Null Count  Dtype  \n",
            "---  ------                --------------  -----  \n",
            " 0   AREA                  7109 non-null   int64  \n",
            " 1   INT_SQFT              7109 non-null   int64  \n",
            " 2   DATE_SALE             7109 non-null   int64  \n",
            " 3   DIST_MAINROAD         7109 non-null   int64  \n",
            " 4   N_BEDROOM             7109 non-null   int64  \n",
            " 5   N_BATHROOM            7109 non-null   int64  \n",
            " 6   N_ROOM                7109 non-null   int64  \n",
            " 7   PARK_FACIL            7109 non-null   int64  \n",
            " 8   DATE_BUILD            7109 non-null   int64  \n",
            " 9   UTILITY_AVAIL         7109 non-null   int64  \n",
            " 10  STREET                7109 non-null   int64  \n",
            " 11  MZZONE                7109 non-null   int64  \n",
            " 12  QS_ROOMS              7109 non-null   float64\n",
            " 13  QS_BATHROOM           7109 non-null   float64\n",
            " 14  QS_BEDROOM            7109 non-null   float64\n",
            " 15  QS_OVERALL            7109 non-null   float64\n",
            " 16  SALES_PRICE           7109 non-null   int64  \n",
            " 17  Age                   7109 non-null   int64  \n",
            " 18  BUILDTYPE_Commercial  7109 non-null   uint8  \n",
            " 19  BUILDTYPE_House       7109 non-null   uint8  \n",
            "dtypes: float64(4), int64(14), uint8(2)\n",
            "memory usage: 1013.7 KB\n"
          ]
        }
      ]
    },
    {
      "cell_type": "markdown",
      "source": [
        "### N_BEDROOM VS SALES_PRICE"
      ],
      "metadata": {
        "id": "BAtJXZcRkUAl"
      }
    },
    {
      "cell_type": "code",
      "source": [
        "sns.barplot(x='N_BEDROOM',y='SALES_PRICE',data=df)"
      ],
      "metadata": {
        "colab": {
          "base_uri": "https://localhost:8080/",
          "height": 309
        },
        "id": "MLMORiw0prer",
        "outputId": "53d47d6f-96fa-4f30-aa56-f9450a7ca119"
      },
      "execution_count": 32,
      "outputs": [
        {
          "output_type": "execute_result",
          "data": {
            "text/plain": [
              "<matplotlib.axes._subplots.AxesSubplot at 0x7f2e53b57610>"
            ]
          },
          "metadata": {},
          "execution_count": 32
        },
        {
          "output_type": "display_data",
          "data": {
            "text/plain": [
              "<Figure size 432x288 with 1 Axes>"
            ],
            "image/png": "[encoded data removed]"
          },
          "metadata": {
            "needs_background": "light"
          }
        }
      ]
    },
    {
      "cell_type": "markdown",
      "source": [
        "As number of room increasing the sale price is increasing"
      ],
      "metadata": {
        "id": "J7PISlcjlgE7"
      }
    },
    {
      "cell_type": "markdown",
      "source": [
        "### N_BATHROOM VS SALES_PRICE"
      ],
      "metadata": {
        "id": "QqPo69twmRXY"
      }
    },
    {
      "cell_type": "code",
      "source": [
        "sns.barplot(x='N_BATHROOM',y='SALES_PRICE',data=df)"
      ],
      "metadata": {
        "colab": {
          "base_uri": "https://localhost:8080/",
          "height": 309
        },
        "id": "25ZmPsmXprb-",
        "outputId": "15e5c502-146e-49a9-f0bc-d13fb99494ec"
      },
      "execution_count": 33,
      "outputs": [
        {
          "output_type": "execute_result",
          "data": {
            "text/plain": [
              "<matplotlib.axes._subplots.AxesSubplot at 0x7f2e60665f90>"
            ]
          },
          "metadata": {},
          "execution_count": 33
        },
        {
          "output_type": "display_data",
          "data": {
            "text/plain": [
              "<Figure size 432x288 with 1 Axes>"
            ],
            "image/png": "[encoded data removed]"
          },
          "metadata": {
            "needs_background": "light"
          }
        }
      ]
    },
    {
      "cell_type": "markdown",
      "source": [
        "There is a linear releationship between number of bathroom and sales price "
      ],
      "metadata": {
        "id": "BsDHbxrImlWW"
      }
    },
    {
      "cell_type": "markdown",
      "source": [
        "### N_ROOM VS SALES_PRICE"
      ],
      "metadata": {
        "id": "wYkKtwuqmxik"
      }
    },
    {
      "cell_type": "code",
      "source": [
        "sns.barplot(x='N_ROOM',y='SALES_PRICE',data=df)"
      ],
      "metadata": {
        "colab": {
          "base_uri": "https://localhost:8080/",
          "height": 309
        },
        "id": "LUA94QnmprZK",
        "outputId": "7c6d3f8d-ac5f-40e4-9a5e-933dc7939638"
      },
      "execution_count": 34,
      "outputs": [
        {
          "output_type": "execute_result",
          "data": {
            "text/plain": [
              "<matplotlib.axes._subplots.AxesSubplot at 0x7f2e53ab5390>"
            ]
          },
          "metadata": {},
          "execution_count": 34
        },
        {
          "output_type": "display_data",
          "data": {
            "text/plain": [
              "<Figure size 432x288 with 1 Axes>"
            ],
            "image/png": "[encoded data removed]"
          },
          "metadata": {
            "needs_background": "light"
          }
        }
      ]
    },
    {
      "cell_type": "markdown",
      "source": [
        "As number of room increasing the sale price is also increasing"
      ],
      "metadata": {
        "id": "CLriPfy7nC-4"
      }
    },
    {
      "cell_type": "markdown",
      "source": [
        "### INT_SQT VS SALES_PRICE"
      ],
      "metadata": {
        "id": "y4J4JziqnaMG"
      }
    },
    {
      "cell_type": "code",
      "source": [
        "sns.regplot(x='INT_SQFT',y='SALES_PRICE',data=df,scatter_kws={'color':'orange'},line_kws={'color':'red'}) #checking the linear releationship"
      ],
      "metadata": {
        "colab": {
          "base_uri": "https://localhost:8080/",
          "height": 309
        },
        "id": "R9c6GqU6prWQ",
        "outputId": "c7f83a0d-816b-47bd-8cb2-771ea9b9cca0"
      },
      "execution_count": 35,
      "outputs": [
        {
          "output_type": "execute_result",
          "data": {
            "text/plain": [
              "<matplotlib.axes._subplots.AxesSubplot at 0x7f2e53a34490>"
            ]
          },
          "metadata": {},
          "execution_count": 35
        },
        {
          "output_type": "display_data",
          "data": {
            "text/plain": [
              "<Figure size 432x288 with 1 Axes>"
            ],
            "image/png": "[encoded data removed]"
          },
          "metadata": {
            "needs_background": "light"
          }
        }
      ]
    },
    {
      "cell_type": "markdown",
      "source": [
        "There is linear releationship between INT_SQT and SALES_PRICE"
      ],
      "metadata": {
        "id": "eZlG0UCyofeM"
      }
    },
    {
      "cell_type": "markdown",
      "source": [
        "### DIST_MAINROAD VS SALES_PRICE "
      ],
      "metadata": {
        "id": "7Q373BOwpJLE"
      }
    },
    {
      "cell_type": "code",
      "source": [
        "sns.regplot(x='DIST_MAINROAD',y='SALES_PRICE',data=df,scatter_kws={'color':'orange'},line_kws={'color':'red'})"
      ],
      "metadata": {
        "colab": {
          "base_uri": "https://localhost:8080/",
          "height": 309
        },
        "id": "nwcqKMo7oryO",
        "outputId": "a2954c5c-3810-4f27-89bb-cb428a6bab0a"
      },
      "execution_count": 36,
      "outputs": [
        {
          "output_type": "execute_result",
          "data": {
            "text/plain": [
              "<matplotlib.axes._subplots.AxesSubplot at 0x7f2e51135050>"
            ]
          },
          "metadata": {},
          "execution_count": 36
        },
        {
          "output_type": "display_data",
          "data": {
            "text/plain": [
              "<Figure size 432x288 with 1 Axes>"
            ],
            "image/png": "[encoded data removed]"
          },
          "metadata": {
            "needs_background": "light"
          }
        }
      ]
    },
    {
      "cell_type": "markdown",
      "source": [
        "There is no linear releationship between DIST_MAINROAD and SALES_PRICE"
      ],
      "metadata": {
        "id": "7gfp4-SLpVTv"
      }
    },
    {
      "cell_type": "markdown",
      "source": [
        "### QS_BEDROOMS VS SALES_PRICE"
      ],
      "metadata": {
        "id": "Z8YQTZZIpeqR"
      }
    },
    {
      "cell_type": "code",
      "source": [
        "sns.regplot(x='QS_BEDROOM',y='SALES_PRICE',data=df,scatter_kws={'color':'orange'},line_kws={'color':'red'})"
      ],
      "metadata": {
        "colab": {
          "base_uri": "https://localhost:8080/",
          "height": 309
        },
        "id": "umeyEB1MqLe4",
        "outputId": "a614d1a6-c987-43c5-8d22-3c5e72fa4241"
      },
      "execution_count": 37,
      "outputs": [
        {
          "output_type": "execute_result",
          "data": {
            "text/plain": [
              "<matplotlib.axes._subplots.AxesSubplot at 0x7f2e5113f910>"
            ]
          },
          "metadata": {},
          "execution_count": 37
        },
        {
          "output_type": "display_data",
          "data": {
            "text/plain": [
              "<Figure size 432x288 with 1 Axes>"
            ],
            "image/png": "[encoded data removed]"
          },
          "metadata": {
            "needs_background": "light"
          }
        }
      ]
    },
    {
      "cell_type": "markdown",
      "source": [
        "There is no linear releationship between QS_BEDROOM and SALES_PRICE"
      ],
      "metadata": {
        "id": "uA_rOBWPqKm5"
      }
    },
    {
      "cell_type": "markdown",
      "source": [
        "### QS_BATHROOM vs SALES_PRICE"
      ],
      "metadata": {
        "id": "jDvOvvb_qcFT"
      }
    },
    {
      "cell_type": "code",
      "source": [
        "sns.regplot(x='QS_BATHROOM',y='SALES_PRICE',data=df,scatter_kws={'color':'orange'},line_kws={'color':'red'})"
      ],
      "metadata": {
        "colab": {
          "base_uri": "https://localhost:8080/",
          "height": 309
        },
        "id": "bu5nzox_qpY9",
        "outputId": "809bb470-9e20-42a2-a6c7-af84b7b5cbf9"
      },
      "execution_count": 38,
      "outputs": [
        {
          "output_type": "execute_result",
          "data": {
            "text/plain": [
              "<matplotlib.axes._subplots.AxesSubplot at 0x7f2e51090390>"
            ]
          },
          "metadata": {},
          "execution_count": 38
        },
        {
          "output_type": "display_data",
          "data": {
            "text/plain": [
              "<Figure size 432x288 with 1 Axes>"
            ],
            "image/png": "[encoded data removed]"
          },
          "metadata": {
            "needs_background": "light"
          }
        }
      ]
    },
    {
      "cell_type": "markdown",
      "source": [
        "There is no linear releationship between QS_BATHROOM vs BED_ROOM"
      ],
      "metadata": {
        "id": "5jRjuqEjqtNF"
      }
    },
    {
      "cell_type": "markdown",
      "source": [
        "### QS_OVERALL VS SALES_PRICE "
      ],
      "metadata": {
        "id": "J_BZbtwpq1qs"
      }
    },
    {
      "cell_type": "code",
      "source": [
        "sns.regplot(x='QS_OVERALL',y='SALES_PRICE',data=df,scatter_kws={'color':'orange'},line_kws={'color':'red'})"
      ],
      "metadata": {
        "colab": {
          "base_uri": "https://localhost:8080/",
          "height": 309
        },
        "id": "7BsOJHferAGJ",
        "outputId": "35b3ec31-c6fb-42bd-d7d3-1e0224e85b04"
      },
      "execution_count": 39,
      "outputs": [
        {
          "output_type": "execute_result",
          "data": {
            "text/plain": [
              "<matplotlib.axes._subplots.AxesSubplot at 0x7f2e5100d590>"
            ]
          },
          "metadata": {},
          "execution_count": 39
        },
        {
          "output_type": "display_data",
          "data": {
            "text/plain": [
              "<Figure size 432x288 with 1 Axes>"
            ],
            "image/png": "[encoded data removed]"
          },
          "metadata": {
            "needs_background": "light"
          }
        }
      ]
    },
    {
      "cell_type": "markdown",
      "source": [
        "There is no linear releationship between QS_OVERALL and SALE_PRICE"
      ],
      "metadata": {
        "id": "EtkMcf5ZrGih"
      }
    },
    {
      "cell_type": "markdown",
      "source": [
        "### AGE VS SALES_PRICE"
      ],
      "metadata": {
        "id": "nensPlYkrPTJ"
      }
    },
    {
      "cell_type": "code",
      "source": [
        "sns.regplot(x='Age',y='SALES_PRICE',data=df,scatter_kws={'color':'orange'},line_kws={'color':'green'})"
      ],
      "metadata": {
        "colab": {
          "base_uri": "https://localhost:8080/",
          "height": 308
        },
        "id": "nzwKoc0eraIt",
        "outputId": "a2a8418a-9560-4b59-84fb-6c3fc5d0a44a"
      },
      "execution_count": 40,
      "outputs": [
        {
          "output_type": "execute_result",
          "data": {
            "text/plain": [
              "<matplotlib.axes._subplots.AxesSubplot at 0x7f2e51033150>"
            ]
          },
          "metadata": {},
          "execution_count": 40
        },
        {
          "output_type": "display_data",
          "data": {
            "text/plain": [
              "<Figure size 432x288 with 1 Axes>"
            ],
            "image/png": "[encoded data removed]"
          },
          "metadata": {
            "needs_background": "light"
          }
        }
      ]
    },
    {
      "cell_type": "markdown",
      "source": [
        "There is a negative linear releationship between Age and Sales_Price"
      ],
      "metadata": {
        "id": "3nWcqMFXrmpu"
      }
    },
    {
      "cell_type": "markdown",
      "source": [
        "### Dropping the columns which is not necessary"
      ],
      "metadata": {
        "id": "xYPe6_WnsM3L"
      }
    },
    {
      "cell_type": "markdown",
      "source": [
        "From the above analysis we drop the columns which has no releationship"
      ],
      "metadata": {
        "id": "L3yTB5X6s9Tw"
      }
    },
    {
      "cell_type": "code",
      "source": [
        "df.drop(columns=['QS_OVERALL','DIST_MAINROAD','QS_ROOMS','QS_BEDROOM','QS_BATHROOM','DATE_BUILD','DATE_SALE'],axis=1,inplace=True)\n",
        "df"
      ],
      "metadata": {
        "colab": {
          "base_uri": "https://localhost:8080/",
          "height": 423
        },
        "id": "2y0jIphYs5CO",
        "outputId": "2164fff2-4cf0-4f5b-e95f-047da0cc5a6c"
      },
      "execution_count": 41,
      "outputs": [
        {
          "output_type": "execute_result",
          "data": {
            "text/plain": [
              "      AREA  INT_SQFT  N_BEDROOM  N_BATHROOM  N_ROOM  PARK_FACIL  \\\n",
              "0        0      1004          1           1       3           1   \n",
              "1        5      1986          2           1       5           0   \n",
              "2        1       909          1           1       3           1   \n",
              "3        3      1855          3           2       5           0   \n",
              "4        0      1226          1           1       3           1   \n",
              "...    ...       ...        ...         ...     ...         ...   \n",
              "7104     0       598          1           1       2           0   \n",
              "7105     3      1897          3           2       5           1   \n",
              "7106     3      1614          2           1       4           0   \n",
              "7107     0       787          1           1       2           1   \n",
              "7108     3      1896          3           2       5           1   \n",
              "\n",
              "      UTILITY_AVAIL  STREET  MZZONE  SALES_PRICE  Age  BUILDTYPE_Commercial  \\\n",
              "0                 2       1       0      7600000   44                     1   \n",
              "1                 2       2       4     21717770   11                     1   \n",
              "2                 0       2       5     13159200   20                     1   \n",
              "3                 1       1       2      9630290   22                     0   \n",
              "4                 2       2       1      7406250   30                     0   \n",
              "...             ...     ...     ...          ...  ...                   ...   \n",
              "7104              0       0       6      5353000   49                     0   \n",
              "7105              1       0       4     10818480    9                     0   \n",
              "7106              1       2       2      8351410   28                     0   \n",
              "7107              0       1       5      8507000   32                     1   \n",
              "7108              0       1       2      9976480   44                     0   \n",
              "\n",
              "      BUILDTYPE_House  \n",
              "0                   0  \n",
              "1                   0  \n",
              "2                   0  \n",
              "3                   0  \n",
              "4                   0  \n",
              "...               ...  \n",
              "7104                0  \n",
              "7105                0  \n",
              "7106                1  \n",
              "7107                0  \n",
              "7108                0  \n",
              "\n",
              "[7109 rows x 13 columns]"
            ],
            "text/html": [
              "\n",
              "  <div id=\"df-e43ea9fd-c27d-49c8-9710-127f83bb70ca\">\n",
              "    <div class=\"colab-df-container\">\n",
              "      <div>\n",
              "<style scoped>\n",
              "    .dataframe tbody tr th:only-of-type {\n",
              "        vertical-align: middle;\n",
              "    }\n",
              "\n",
              "    .dataframe tbody tr th {\n",
              "        vertical-align: top;\n",
              "    }\n",
              "\n",
              "    .dataframe thead th {\n",
              "        text-align: right;\n",
              "    }\n",
              "</style>\n",
              "<table border=\"1\" class=\"dataframe\">\n",
              "  <thead>\n",
              "    <tr style=\"text-align: right;\">\n",
              "      <th></th>\n",
              "      <th>AREA</th>\n",
              "      <th>INT_SQFT</th>\n",
              "      <th>N_BEDROOM</th>\n",
              "      <th>N_BATHROOM</th>\n",
              "      <th>N_ROOM</th>\n",
              "      <th>PARK_FACIL</th>\n",
              "      <th>UTILITY_AVAIL</th>\n",
              "      <th>STREET</th>\n",
              "      <th>MZZONE</th>\n",
              "      <th>SALES_PRICE</th>\n",
              "      <th>Age</th>\n",
              "      <th>BUILDTYPE_Commercial</th>\n",
              "      <th>BUILDTYPE_House</th>\n",
              "    </tr>\n",
              "  </thead>\n",
              "  <tbody>\n",
              "    <tr>\n",
              "      <th>0</th>\n",
              "      <td>0</td>\n",
              "      <td>1004</td>\n",
              "      <td>1</td>\n",
              "      <td>1</td>\n",
              "      <td>3</td>\n",
              "      <td>1</td>\n",
              "      <td>2</td>\n",
              "      <td>1</td>\n",
              "      <td>0</td>\n",
              "      <td>7600000</td>\n",
              "      <td>44</td>\n",
              "      <td>1</td>\n",
              "      <td>0</td>\n",
              "    </tr>\n",
              "    <tr>\n",
              "      <th>1</th>\n",
              "      <td>5</td>\n",
              "      <td>1986</td>\n",
              "      <td>2</td>\n",
              "      <td>1</td>\n",
              "      <td>5</td>\n",
              "      <td>0</td>\n",
              "      <td>2</td>\n",
              "      <td>2</td>\n",
              "      <td>4</td>\n",
              "      <td>21717770</td>\n",
              "      <td>11</td>\n",
              "      <td>1</td>\n",
              "      <td>0</td>\n",
              "    </tr>\n",
              "    <tr>\n",
              "      <th>2</th>\n",
              "      <td>1</td>\n",
              "      <td>909</td>\n",
              "      <td>1</td>\n",
              "      <td>1</td>\n",
              "      <td>3</td>\n",
              "      <td>1</td>\n",
              "      <td>0</td>\n",
              "      <td>2</td>\n",
              "      <td>5</td>\n",
              "      <td>13159200</td>\n",
              "      <td>20</td>\n",
              "      <td>1</td>\n",
              "      <td>0</td>\n",
              "    </tr>\n",
              "    <tr>\n",
              "      <th>3</th>\n",
              "      <td>3</td>\n",
              "      <td>1855</td>\n",
              "      <td>3</td>\n",
              "      <td>2</td>\n",
              "      <td>5</td>\n",
              "      <td>0</td>\n",
              "      <td>1</td>\n",
              "      <td>1</td>\n",
              "      <td>2</td>\n",
              "      <td>9630290</td>\n",
              "      <td>22</td>\n",
              "      <td>0</td>\n",
              "      <td>0</td>\n",
              "    </tr>\n",
              "    <tr>\n",
              "      <th>4</th>\n",
              "      <td>0</td>\n",
              "      <td>1226</td>\n",
              "      <td>1</td>\n",
              "      <td>1</td>\n",
              "      <td>3</td>\n",
              "      <td>1</td>\n",
              "      <td>2</td>\n",
              "      <td>2</td>\n",
              "      <td>1</td>\n",
              "      <td>7406250</td>\n",
              "      <td>30</td>\n",
              "      <td>0</td>\n",
              "      <td>0</td>\n",
              "    </tr>\n",
              "    <tr>\n",
              "      <th>...</th>\n",
              "      <td>...</td>\n",
              "      <td>...</td>\n",
              "      <td>...</td>\n",
              "      <td>...</td>\n",
              "      <td>...</td>\n",
              "      <td>...</td>\n",
              "      <td>...</td>\n",
              "      <td>...</td>\n",
              "      <td>...</td>\n",
              "      <td>...</td>\n",
              "      <td>...</td>\n",
              "      <td>...</td>\n",
              "      <td>...</td>\n",
              "    </tr>\n",
              "    <tr>\n",
              "      <th>7104</th>\n",
              "      <td>0</td>\n",
              "      <td>598</td>\n",
              "      <td>1</td>\n",
              "      <td>1</td>\n",
              "      <td>2</td>\n",
              "      <td>0</td>\n",
              "      <td>0</td>\n",
              "      <td>0</td>\n",
              "      <td>6</td>\n",
              "      <td>5353000</td>\n",
              "      <td>49</td>\n",
              "      <td>0</td>\n",
              "      <td>0</td>\n",
              "    </tr>\n",
              "    <tr>\n",
              "      <th>7105</th>\n",
              "      <td>3</td>\n",
              "      <td>1897</td>\n",
              "      <td>3</td>\n",
              "      <td>2</td>\n",
              "      <td>5</td>\n",
              "      <td>1</td>\n",
              "      <td>1</td>\n",
              "      <td>0</td>\n",
              "      <td>4</td>\n",
              "      <td>10818480</td>\n",
              "      <td>9</td>\n",
              "      <td>0</td>\n",
              "      <td>0</td>\n",
              "    </tr>\n",
              "    <tr>\n",
              "      <th>7106</th>\n",
              "      <td>3</td>\n",
              "      <td>1614</td>\n",
              "      <td>2</td>\n",
              "      <td>1</td>\n",
              "      <td>4</td>\n",
              "      <td>0</td>\n",
              "      <td>1</td>\n",
              "      <td>2</td>\n",
              "      <td>2</td>\n",
              "      <td>8351410</td>\n",
              "      <td>28</td>\n",
              "      <td>0</td>\n",
              "      <td>1</td>\n",
              "    </tr>\n",
              "    <tr>\n",
              "      <th>7107</th>\n",
              "      <td>0</td>\n",
              "      <td>787</td>\n",
              "      <td>1</td>\n",
              "      <td>1</td>\n",
              "      <td>2</td>\n",
              "      <td>1</td>\n",
              "      <td>0</td>\n",
              "      <td>1</td>\n",
              "      <td>5</td>\n",
              "      <td>8507000</td>\n",
              "      <td>32</td>\n",
              "      <td>1</td>\n",
              "      <td>0</td>\n",
              "    </tr>\n",
              "    <tr>\n",
              "      <th>7108</th>\n",
              "      <td>3</td>\n",
              "      <td>1896</td>\n",
              "      <td>3</td>\n",
              "      <td>2</td>\n",
              "      <td>5</td>\n",
              "      <td>1</td>\n",
              "      <td>0</td>\n",
              "      <td>1</td>\n",
              "      <td>2</td>\n",
              "      <td>9976480</td>\n",
              "      <td>44</td>\n",
              "      <td>0</td>\n",
              "      <td>0</td>\n",
              "    </tr>\n",
              "  </tbody>\n",
              "</table>\n",
              "<p>7109 rows × 13 columns</p>\n",
              "</div>\n",
              "      <button class=\"colab-df-convert\" onclick=\"convertToInteractive('df-e43ea9fd-c27d-49c8-9710-127f83bb70ca')\"\n",
              "              title=\"Convert this dataframe to an interactive table.\"\n",
              "              style=\"display:none;\">\n",
              "        \n",
              "  <svg xmlns=\"http://www.w3.org/2000/svg\" height=\"24px\"viewBox=\"0 0 24 24\"\n",
              "       width=\"24px\">\n",
              "    <path d=\"M0 0h24v24H0V0z\" fill=\"none\"/>\n",
              "    <path d=\"M18.56 5.44l.94 2.06.94-2.06 2.06-.94-2.06-.94-.94-2.06-.94 2.06-2.06.94zm-11 1L8.5 8.5l.94-2.06 2.06-.94-2.06-.94L8.5 2.5l-.94 2.06-2.06.94zm10 10l.94 2.06.94-2.06 2.06-.94-2.06-.94-.94-2.06-.94 2.06-2.06.94z\"/><path d=\"M17.41 7.96l-1.37-1.37c-.4-.4-.92-.59-1.43-.59-.52 0-1.04.2-1.43.59L10.3 9.45l-7.72 7.72c-.78.78-.78 2.05 0 2.83L4 21.41c.39.39.9.59 1.41.59.51 0 1.02-.2 1.41-.59l7.78-7.78 2.81-2.81c.8-.78.8-2.07 0-2.86zM5.41 20L4 18.59l7.72-7.72 1.47 1.35L5.41 20z\"/>\n",
              "  </svg>\n",
              "      </button>\n",
              "      \n",
              "  <style>\n",
              "    .colab-df-container {\n",
              "      display:flex;\n",
              "      flex-wrap:wrap;\n",
              "      gap: 12px;\n",
              "    }\n",
              "\n",
              "    .colab-df-convert {\n",
              "      background-color: #E8F0FE;\n",
              "      border: none;\n",
              "      border-radius: 50%;\n",
              "      cursor: pointer;\n",
              "      display: none;\n",
              "      fill: #1967D2;\n",
              "      height: 32px;\n",
              "      padding: 0 0 0 0;\n",
              "      width: 32px;\n",
              "    }\n",
              "\n",
              "    .colab-df-convert:hover {\n",
              "      background-color: #E2EBFA;\n",
              "      box-shadow: 0px 1px 2px rgba(60, 64, 67, 0.3), 0px 1px 3px 1px rgba(60, 64, 67, 0.15);\n",
              "      fill: #174EA6;\n",
              "    }\n",
              "\n",
              "    [theme=dark] .colab-df-convert {\n",
              "      background-color: #3B4455;\n",
              "      fill: #D2E3FC;\n",
              "    }\n",
              "\n",
              "    [theme=dark] .colab-df-convert:hover {\n",
              "      background-color: #434B5C;\n",
              "      box-shadow: 0px 1px 3px 1px rgba(0, 0, 0, 0.15);\n",
              "      filter: drop-shadow(0px 1px 2px rgba(0, 0, 0, 0.3));\n",
              "      fill: #FFFFFF;\n",
              "    }\n",
              "  </style>\n",
              "\n",
              "      <script>\n",
              "        const buttonEl =\n",
              "          document.querySelector('#df-e43ea9fd-c27d-49c8-9710-127f83bb70ca button.colab-df-convert');\n",
              "        buttonEl.style.display =\n",
              "          google.colab.kernel.accessAllowed ? 'block' : 'none';\n",
              "\n",
              "        async function convertToInteractive(key) {\n",
              "          const element = document.querySelector('#df-e43ea9fd-c27d-49c8-9710-127f83bb70ca');\n",
              "          const dataTable =\n",
              "            await google.colab.kernel.invokeFunction('convertToInteractive',\n",
              "                                                     [key], {});\n",
              "          if (!dataTable) return;\n",
              "\n",
              "          const docLinkHtml = 'Like what you see? Visit the ' +\n",
              "            '<a target=\"_blank\" href=https://colab.research.google.com/notebooks/data_table.ipynb>data table notebook</a>'\n",
              "            + ' to learn more about interactive tables.';\n",
              "          element.innerHTML = '';\n",
              "          dataTable['output_type'] = 'display_data';\n",
              "          await google.colab.output.renderOutput(dataTable, element);\n",
              "          const docLink = document.createElement('div');\n",
              "          docLink.innerHTML = docLinkHtml;\n",
              "          element.appendChild(docLink);\n",
              "        }\n",
              "      </script>\n",
              "    </div>\n",
              "  </div>\n",
              "  "
            ]
          },
          "metadata": {},
          "execution_count": 41
        }
      ]
    },
    {
      "cell_type": "code",
      "source": [
        "df.dtypes"
      ],
      "metadata": {
        "colab": {
          "base_uri": "https://localhost:8080/"
        },
        "id": "MkzEtlsA8gWS",
        "outputId": "af65c9b0-defd-451a-f91b-9515156a70e1"
      },
      "execution_count": 42,
      "outputs": [
        {
          "output_type": "execute_result",
          "data": {
            "text/plain": [
              "AREA                    int64\n",
              "INT_SQFT                int64\n",
              "N_BEDROOM               int64\n",
              "N_BATHROOM              int64\n",
              "N_ROOM                  int64\n",
              "PARK_FACIL              int64\n",
              "UTILITY_AVAIL           int64\n",
              "STREET                  int64\n",
              "MZZONE                  int64\n",
              "SALES_PRICE             int64\n",
              "Age                     int64\n",
              "BUILDTYPE_Commercial    uint8\n",
              "BUILDTYPE_House         uint8\n",
              "dtype: object"
            ]
          },
          "metadata": {},
          "execution_count": 42
        }
      ]
    },
    {
      "cell_type": "code",
      "source": [
        "df.head()"
      ],
      "metadata": {
        "colab": {
          "base_uri": "https://localhost:8080/",
          "height": 206
        },
        "id": "jKUsC9g281Xl",
        "outputId": "de6804c7-bea2-4c2b-fedf-a74b7fe914bd"
      },
      "execution_count": 43,
      "outputs": [
        {
          "output_type": "execute_result",
          "data": {
            "text/plain": [
              "   AREA  INT_SQFT  N_BEDROOM  N_BATHROOM  N_ROOM  PARK_FACIL  UTILITY_AVAIL  \\\n",
              "0     0      1004          1           1       3           1              2   \n",
              "1     5      1986          2           1       5           0              2   \n",
              "2     1       909          1           1       3           1              0   \n",
              "3     3      1855          3           2       5           0              1   \n",
              "4     0      1226          1           1       3           1              2   \n",
              "\n",
              "   STREET  MZZONE  SALES_PRICE  Age  BUILDTYPE_Commercial  BUILDTYPE_House  \n",
              "0       1       0      7600000   44                     1                0  \n",
              "1       2       4     21717770   11                     1                0  \n",
              "2       2       5     13159200   20                     1                0  \n",
              "3       1       2      9630290   22                     0                0  \n",
              "4       2       1      7406250   30                     0                0  "
            ],
            "text/html": [
              "\n",
              "  <div id=\"df-113c50c1-4e1c-42ea-83d8-b3cd96d01f67\">\n",
              "    <div class=\"colab-df-container\">\n",
              "      <div>\n",
              "<style scoped>\n",
              "    .dataframe tbody tr th:only-of-type {\n",
              "        vertical-align: middle;\n",
              "    }\n",
              "\n",
              "    .dataframe tbody tr th {\n",
              "        vertical-align: top;\n",
              "    }\n",
              "\n",
              "    .dataframe thead th {\n",
              "        text-align: right;\n",
              "    }\n",
              "</style>\n",
              "<table border=\"1\" class=\"dataframe\">\n",
              "  <thead>\n",
              "    <tr style=\"text-align: right;\">\n",
              "      <th></th>\n",
              "      <th>AREA</th>\n",
              "      <th>INT_SQFT</th>\n",
              "      <th>N_BEDROOM</th>\n",
              "      <th>N_BATHROOM</th>\n",
              "      <th>N_ROOM</th>\n",
              "      <th>PARK_FACIL</th>\n",
              "      <th>UTILITY_AVAIL</th>\n",
              "      <th>STREET</th>\n",
              "      <th>MZZONE</th>\n",
              "      <th>SALES_PRICE</th>\n",
              "      <th>Age</th>\n",
              "      <th>BUILDTYPE_Commercial</th>\n",
              "      <th>BUILDTYPE_House</th>\n",
              "    </tr>\n",
              "  </thead>\n",
              "  <tbody>\n",
              "    <tr>\n",
              "      <th>0</th>\n",
              "      <td>0</td>\n",
              "      <td>1004</td>\n",
              "      <td>1</td>\n",
              "      <td>1</td>\n",
              "      <td>3</td>\n",
              "      <td>1</td>\n",
              "      <td>2</td>\n",
              "      <td>1</td>\n",
              "      <td>0</td>\n",
              "      <td>7600000</td>\n",
              "      <td>44</td>\n",
              "      <td>1</td>\n",
              "      <td>0</td>\n",
              "    </tr>\n",
              "    <tr>\n",
              "      <th>1</th>\n",
              "      <td>5</td>\n",
              "      <td>1986</td>\n",
              "      <td>2</td>\n",
              "      <td>1</td>\n",
              "      <td>5</td>\n",
              "      <td>0</td>\n",
              "      <td>2</td>\n",
              "      <td>2</td>\n",
              "      <td>4</td>\n",
              "      <td>21717770</td>\n",
              "      <td>11</td>\n",
              "      <td>1</td>\n",
              "      <td>0</td>\n",
              "    </tr>\n",
              "    <tr>\n",
              "      <th>2</th>\n",
              "      <td>1</td>\n",
              "      <td>909</td>\n",
              "      <td>1</td>\n",
              "      <td>1</td>\n",
              "      <td>3</td>\n",
              "      <td>1</td>\n",
              "      <td>0</td>\n",
              "      <td>2</td>\n",
              "      <td>5</td>\n",
              "      <td>13159200</td>\n",
              "      <td>20</td>\n",
              "      <td>1</td>\n",
              "      <td>0</td>\n",
              "    </tr>\n",
              "    <tr>\n",
              "      <th>3</th>\n",
              "      <td>3</td>\n",
              "      <td>1855</td>\n",
              "      <td>3</td>\n",
              "      <td>2</td>\n",
              "      <td>5</td>\n",
              "      <td>0</td>\n",
              "      <td>1</td>\n",
              "      <td>1</td>\n",
              "      <td>2</td>\n",
              "      <td>9630290</td>\n",
              "      <td>22</td>\n",
              "      <td>0</td>\n",
              "      <td>0</td>\n",
              "    </tr>\n",
              "    <tr>\n",
              "      <th>4</th>\n",
              "      <td>0</td>\n",
              "      <td>1226</td>\n",
              "      <td>1</td>\n",
              "      <td>1</td>\n",
              "      <td>3</td>\n",
              "      <td>1</td>\n",
              "      <td>2</td>\n",
              "      <td>2</td>\n",
              "      <td>1</td>\n",
              "      <td>7406250</td>\n",
              "      <td>30</td>\n",
              "      <td>0</td>\n",
              "      <td>0</td>\n",
              "    </tr>\n",
              "  </tbody>\n",
              "</table>\n",
              "</div>\n",
              "      <button class=\"colab-df-convert\" onclick=\"convertToInteractive('df-113c50c1-4e1c-42ea-83d8-b3cd96d01f67')\"\n",
              "              title=\"Convert this dataframe to an interactive table.\"\n",
              "              style=\"display:none;\">\n",
              "        \n",
              "  <svg xmlns=\"http://www.w3.org/2000/svg\" height=\"24px\"viewBox=\"0 0 24 24\"\n",
              "       width=\"24px\">\n",
              "    <path d=\"M0 0h24v24H0V0z\" fill=\"none\"/>\n",
              "    <path d=\"M18.56 5.44l.94 2.06.94-2.06 2.06-.94-2.06-.94-.94-2.06-.94 2.06-2.06.94zm-11 1L8.5 8.5l.94-2.06 2.06-.94-2.06-.94L8.5 2.5l-.94 2.06-2.06.94zm10 10l.94 2.06.94-2.06 2.06-.94-2.06-.94-.94-2.06-.94 2.06-2.06.94z\"/><path d=\"M17.41 7.96l-1.37-1.37c-.4-.4-.92-.59-1.43-.59-.52 0-1.04.2-1.43.59L10.3 9.45l-7.72 7.72c-.78.78-.78 2.05 0 2.83L4 21.41c.39.39.9.59 1.41.59.51 0 1.02-.2 1.41-.59l7.78-7.78 2.81-2.81c.8-.78.8-2.07 0-2.86zM5.41 20L4 18.59l7.72-7.72 1.47 1.35L5.41 20z\"/>\n",
              "  </svg>\n",
              "      </button>\n",
              "      \n",
              "  <style>\n",
              "    .colab-df-container {\n",
              "      display:flex;\n",
              "      flex-wrap:wrap;\n",
              "      gap: 12px;\n",
              "    }\n",
              "\n",
              "    .colab-df-convert {\n",
              "      background-color: #E8F0FE;\n",
              "      border: none;\n",
              "      border-radius: 50%;\n",
              "      cursor: pointer;\n",
              "      display: none;\n",
              "      fill: #1967D2;\n",
              "      height: 32px;\n",
              "      padding: 0 0 0 0;\n",
              "      width: 32px;\n",
              "    }\n",
              "\n",
              "    .colab-df-convert:hover {\n",
              "      background-color: #E2EBFA;\n",
              "      box-shadow: 0px 1px 2px rgba(60, 64, 67, 0.3), 0px 1px 3px 1px rgba(60, 64, 67, 0.15);\n",
              "      fill: #174EA6;\n",
              "    }\n",
              "\n",
              "    [theme=dark] .colab-df-convert {\n",
              "      background-color: #3B4455;\n",
              "      fill: #D2E3FC;\n",
              "    }\n",
              "\n",
              "    [theme=dark] .colab-df-convert:hover {\n",
              "      background-color: #434B5C;\n",
              "      box-shadow: 0px 1px 3px 1px rgba(0, 0, 0, 0.15);\n",
              "      filter: drop-shadow(0px 1px 2px rgba(0, 0, 0, 0.3));\n",
              "      fill: #FFFFFF;\n",
              "    }\n",
              "  </style>\n",
              "\n",
              "      <script>\n",
              "        const buttonEl =\n",
              "          document.querySelector('#df-113c50c1-4e1c-42ea-83d8-b3cd96d01f67 button.colab-df-convert');\n",
              "        buttonEl.style.display =\n",
              "          google.colab.kernel.accessAllowed ? 'block' : 'none';\n",
              "\n",
              "        async function convertToInteractive(key) {\n",
              "          const element = document.querySelector('#df-113c50c1-4e1c-42ea-83d8-b3cd96d01f67');\n",
              "          const dataTable =\n",
              "            await google.colab.kernel.invokeFunction('convertToInteractive',\n",
              "                                                     [key], {});\n",
              "          if (!dataTable) return;\n",
              "\n",
              "          const docLinkHtml = 'Like what you see? Visit the ' +\n",
              "            '<a target=\"_blank\" href=https://colab.research.google.com/notebooks/data_table.ipynb>data table notebook</a>'\n",
              "            + ' to learn more about interactive tables.';\n",
              "          element.innerHTML = '';\n",
              "          dataTable['output_type'] = 'display_data';\n",
              "          await google.colab.output.renderOutput(dataTable, element);\n",
              "          const docLink = document.createElement('div');\n",
              "          docLink.innerHTML = docLinkHtml;\n",
              "          element.appendChild(docLink);\n",
              "        }\n",
              "      </script>\n",
              "    </div>\n",
              "  </div>\n",
              "  "
            ]
          },
          "metadata": {},
          "execution_count": 43
        }
      ]
    },
    {
      "cell_type": "markdown",
      "source": [
        "# Linear Regression Model"
      ],
      "metadata": {
        "id": "hAXOvm0OA6_R"
      }
    },
    {
      "cell_type": "code",
      "source": [
        "X = df.drop('SALES_PRICE',axis=1)\n",
        "Y = df['SALES_PRICE'].values"
      ],
      "metadata": {
        "id": "dyCe4n5iBMCf"
      },
      "execution_count": 44,
      "outputs": []
    },
    {
      "cell_type": "markdown",
      "source": [
        "#### *Splitting*"
      ],
      "metadata": {
        "id": "LJQEiYOFCAGk"
      }
    },
    {
      "cell_type": "code",
      "source": [
        "from sklearn.model_selection import train_test_split\n",
        "X=df[['INT_SQFT','N_ROOM','BUILDTYPE_Commercial','BUILDTYPE_House','AREA','N_BEDROOM','PARK_FACIL','STREET','MZZONE','Age','UTILITY_AVAIL']]\n",
        "y=df['SALES_PRICE']\n",
        "#X_val=df[['AGE']].values.reshape(-1,1)\n",
        "X_train, X_test, y_train, y_test = train_test_split(X,y,test_size=0.3)"
      ],
      "metadata": {
        "id": "pB1ASYowCOBS"
      },
      "execution_count": 45,
      "outputs": []
    },
    {
      "cell_type": "markdown",
      "source": [
        "#### *Scaling*"
      ],
      "metadata": {
        "id": "4Gaqd_CvD1Ip"
      }
    },
    {
      "cell_type": "code",
      "source": [
        "from sklearn.preprocessing import StandardScaler \n",
        "scaler = StandardScaler() \n",
        "scaler.fit(X_train,y_train) \n",
        "X_train_scaled = scaler.transform(X_train) \n",
        "X_test_scaled = scaler.transform(X_test)"
      ],
      "metadata": {
        "id": "52iBQjy3D5-G"
      },
      "execution_count": 46,
      "outputs": []
    },
    {
      "cell_type": "markdown",
      "source": [
        "#### *Model Fitting* "
      ],
      "metadata": {
        "id": "-WvVmqeoEfdP"
      }
    },
    {
      "cell_type": "code",
      "source": [
        "from sklearn.linear_model import LinearRegression \n",
        "regressor = LinearRegression() \n",
        "regressor.fit(X_train_scaled, y_train)"
      ],
      "metadata": {
        "colab": {
          "base_uri": "https://localhost:8080/"
        },
        "id": "DHnQNGt1EjU6",
        "outputId": "378fca39-d4ff-4913-b15c-144d7a86be7e"
      },
      "execution_count": 47,
      "outputs": [
        {
          "output_type": "execute_result",
          "data": {
            "text/plain": [
              "LinearRegression()"
            ]
          },
          "metadata": {},
          "execution_count": 47
        }
      ]
    },
    {
      "cell_type": "markdown",
      "source": [
        "#### *Predecting Values*"
      ],
      "metadata": {
        "id": "-ZVeGYUHE-ZI"
      }
    },
    {
      "cell_type": "code",
      "source": [
        "y_pred = regressor.predict(X_test_scaled)\n",
        "y_pred\n"
      ],
      "metadata": {
        "colab": {
          "base_uri": "https://localhost:8080/"
        },
        "id": "9C9DfCamFE-S",
        "outputId": "238a1aa3-bf52-41ac-d465-8733620893bf"
      },
      "execution_count": 48,
      "outputs": [
        {
          "output_type": "execute_result",
          "data": {
            "text/plain": [
              "array([ 7815467.84456131, 17763369.61483245, 17364006.35269058, ...,\n",
              "        8586233.85364293, 15824650.76052151, 12542063.58973275])"
            ]
          },
          "metadata": {},
          "execution_count": 48
        }
      ]
    },
    {
      "cell_type": "markdown",
      "source": [
        "#### *Evaluation Metric-R2 value*"
      ],
      "metadata": {
        "id": "zTrv28WVFKYu"
      }
    },
    {
      "cell_type": "code",
      "source": [
        "from sklearn import metrics \n",
        "from sklearn.metrics import r2_score\n",
        "print('R2- SCORE:', metrics.r2_score(y_test,y_pred))"
      ],
      "metadata": {
        "colab": {
          "base_uri": "https://localhost:8080/"
        },
        "id": "82cHLZzCFURa",
        "outputId": "a1fa0f39-8c5f-40af-c49d-b8180b886ab6"
      },
      "execution_count": 49,
      "outputs": [
        {
          "output_type": "stream",
          "name": "stdout",
          "text": [
            "R2- SCORE: 0.9188973680428534\n"
          ]
        }
      ]
    },
    {
      "cell_type": "markdown",
      "source": [
        "# KNN - K Nearest Neighbours algorithm"
      ],
      "metadata": {
        "id": "Ih75A_9SF4Xm"
      }
    },
    {
      "cell_type": "markdown",
      "source": [
        "#### *Hyper parameter Tunning, Fitting the model* "
      ],
      "metadata": {
        "id": "WrR4cHDFMqH7"
      }
    },
    {
      "cell_type": "code",
      "source": [
        "from sklearn.neighbors import KNeighborsRegressor\n",
        "from sklearn.model_selection import cross_val_score\n",
        "\n",
        "for i in [1,2,3,4,5,6,7,8,9,10,20,50]:\n",
        "  knn = KNeighborsRegressor(i)\n",
        "  knn.fit(X_train_scaled,y_train) \n",
        "  print(\"K value  : \" , i, \" train score : \", knn.score(X_train_scaled,y_train) , \" score : \", np.mean(cross_val_score(knn, X_train_scaled, y_train, cv=10)))\n"
      ],
      "metadata": {
        "colab": {
          "base_uri": "https://localhost:8080/"
        },
        "id": "z8vvNe53Lmim",
        "outputId": "b2d8a1c0-c337-47c0-b6de-6a12695b54f8"
      },
      "execution_count": 50,
      "outputs": [
        {
          "output_type": "stream",
          "name": "stdout",
          "text": [
            "K value  :  1  train score :  0.9999965508294676  score :  0.9321005514405061\n",
            "K value  :  2  train score :  0.9837697101218562  score :  0.9452796356523869\n",
            "K value  :  3  train score :  0.9768049876170515  score :  0.9489800981144262\n",
            "K value  :  4  train score :  0.9727244971661974  score :  0.9493194186939713\n",
            "K value  :  5  train score :  0.9691712496925571  score :  0.9490891608576788\n",
            "K value  :  6  train score :  0.9663747549892854  score :  0.9492725334227557\n",
            "K value  :  7  train score :  0.9640663007539741  score :  0.9488818687734503\n",
            "K value  :  8  train score :  0.9622575935702888  score :  0.9485155814413432\n",
            "K value  :  9  train score :  0.9607619464940766  score :  0.9476051554130956\n",
            "K value  :  10  train score :  0.9593171935810542  score :  0.9465038713153587\n",
            "K value  :  20  train score :  0.9461265270518864  score :  0.9366004641493145\n",
            "K value  :  50  train score :  0.9199290284969615  score :  0.9117751912993087\n"
          ]
        }
      ]
    },
    {
      "cell_type": "markdown",
      "source": [
        "#### *Scoring the model-R2 Score with best hyperparameter*"
      ],
      "metadata": {
        "id": "IyLltWsSMR2W"
      }
    },
    {
      "cell_type": "code",
      "source": [
        "knn = KNeighborsRegressor(3)\n",
        "knn.fit(X_train_scaled,y_train)\n",
        "knn.score(X_test_scaled,y_test)"
      ],
      "metadata": {
        "colab": {
          "base_uri": "https://localhost:8080/"
        },
        "id": "hKmg_4kEMg2O",
        "outputId": "417daca0-d41f-4a98-bda7-e34a8fa823b3"
      },
      "execution_count": 51,
      "outputs": [
        {
          "output_type": "execute_result",
          "data": {
            "text/plain": [
              "0.9534902392227766"
            ]
          },
          "metadata": {},
          "execution_count": 51
        }
      ]
    },
    {
      "cell_type": "markdown",
      "source": [
        "#Decision Tree Regressor Algorithm"
      ],
      "metadata": {
        "id": "r3TBmNkDIezO"
      }
    },
    {
      "cell_type": "markdown",
      "source": [
        "#### *Fitting the model*"
      ],
      "metadata": {
        "id": "17FCRuaSIm8Q"
      }
    },
    {
      "cell_type": "code",
      "source": [
        "from sklearn.tree import DecisionTreeRegressor\n",
        "dt = DecisionTreeRegressor(max_depth = 4)\n",
        "dt.fit(X_train_scaled, y_train)"
      ],
      "metadata": {
        "colab": {
          "base_uri": "https://localhost:8080/"
        },
        "id": "yljUsUcGIedj",
        "outputId": "46b4d7ba-df27-45d3-bee4-02aba36db808"
      },
      "execution_count": 52,
      "outputs": [
        {
          "output_type": "execute_result",
          "data": {
            "text/plain": [
              "DecisionTreeRegressor(max_depth=4)"
            ]
          },
          "metadata": {},
          "execution_count": 52
        }
      ]
    },
    {
      "cell_type": "markdown",
      "source": [
        "#### *Predicted values*"
      ],
      "metadata": {
        "id": "dFWOnATgI4H4"
      }
    },
    {
      "cell_type": "code",
      "source": [
        "y_pred = dt.predict(X_test_scaled)\n",
        "y_pred"
      ],
      "metadata": {
        "colab": {
          "base_uri": "https://localhost:8080/"
        },
        "id": "NOJoC2KIJAeh",
        "outputId": "b134d31d-d683-42ec-e98b-e0f110aeec37"
      },
      "execution_count": 53,
      "outputs": [
        {
          "output_type": "execute_result",
          "data": {
            "text/plain": [
              "array([ 7750366.70233463, 18687915.58139535, 18687915.58139535, ...,\n",
              "        9343842.8679078 , 13820066.58379374, 13709014.49324324])"
            ]
          },
          "metadata": {},
          "execution_count": 53
        }
      ]
    },
    {
      "cell_type": "markdown",
      "source": [
        "#### *Evaluation Metric-R2 Score*"
      ],
      "metadata": {
        "id": "GIo3xP9cJF7l"
      }
    },
    {
      "cell_type": "code",
      "source": [
        "print('R2- SCORE:', r2_score(y_test,y_pred))"
      ],
      "metadata": {
        "colab": {
          "base_uri": "https://localhost:8080/"
        },
        "id": "LbU0RzQ4JGO_",
        "outputId": "950a8266-f7df-4897-c177-ccc6bf75ba25"
      },
      "execution_count": 54,
      "outputs": [
        {
          "output_type": "stream",
          "name": "stdout",
          "text": [
            "R2- SCORE: 0.8847859023562256\n"
          ]
        }
      ]
    },
    {
      "cell_type": "markdown",
      "source": [
        "# Random Forest Regressor Algorithm"
      ],
      "metadata": {
        "id": "ysSrhteZJQo4"
      }
    },
    {
      "cell_type": "markdown",
      "source": [
        "#### *Fitting the model*"
      ],
      "metadata": {
        "id": "rxC1DNyEJQiA"
      }
    },
    {
      "cell_type": "code",
      "source": [
        "from sklearn.ensemble import RandomForestRegressor\n",
        "from sklearn.metrics import r2_score\n",
        "rf = RandomForestRegressor(n_estimators= 100, max_depth = 4, max_features='sqrt')\n",
        "rf.fit(X_train_scaled, y_train)\n",
        "y_pred = rf.predict(X_test_scaled)"
      ],
      "metadata": {
        "id": "v2Z1IoehJfT8"
      },
      "execution_count": 55,
      "outputs": []
    },
    {
      "cell_type": "markdown",
      "source": [
        "#### *Predecting Values*"
      ],
      "metadata": {
        "id": "nsq8ELobJler"
      }
    },
    {
      "cell_type": "code",
      "source": [
        "y_pred = rf.predict(X_test_scaled) \n",
        "y_pred"
      ],
      "metadata": {
        "colab": {
          "base_uri": "https://localhost:8080/"
        },
        "id": "YJT5-FZZJr9D",
        "outputId": "2e58db74-0f89-4ecc-ef66-99d7e214dc40"
      },
      "execution_count": 56,
      "outputs": [
        {
          "output_type": "execute_result",
          "data": {
            "text/plain": [
              "array([ 8711417.31375318, 17458321.94820257, 17376860.62337923, ...,\n",
              "        8830643.502669  , 14947588.96425088, 12743728.42472797])"
            ]
          },
          "metadata": {},
          "execution_count": 56
        }
      ]
    },
    {
      "cell_type": "markdown",
      "source": [
        "#### *Evaluation Metric-R2 Score*"
      ],
      "metadata": {
        "id": "m8IMPojeJxr-"
      }
    },
    {
      "cell_type": "code",
      "source": [
        "print('R2- SCORE:', r2_score(y_test,y_pred))"
      ],
      "metadata": {
        "colab": {
          "base_uri": "https://localhost:8080/"
        },
        "id": "VSRQaNqkJ5u1",
        "outputId": "675fc492-726c-470d-baae-11450a3aaffe"
      },
      "execution_count": 57,
      "outputs": [
        {
          "output_type": "stream",
          "name": "stdout",
          "text": [
            "R2- SCORE: 0.8883119532268173\n"
          ]
        }
      ]
    },
    {
      "cell_type": "markdown",
      "source": [
        "#XG Boost Algorithm"
      ],
      "metadata": {
        "id": "9_E5H0kRJ-WT"
      }
    },
    {
      "cell_type": "markdown",
      "source": [
        "#### *Tuning Based on the learning rate, Fitting the model*"
      ],
      "metadata": {
        "id": "1Zv6L6QLJ9-R"
      }
    },
    {
      "cell_type": "code",
      "source": [
        "import xgboost as xgb\n",
        "from xgboost import XGBRegressor\n",
        "for lr in [0.01,0.02,0.03,0.04,0.05,0.06,0.07,0.08,0.09,0.1,0.11,0.12,0.13,0.14,0.15,0.2,0.5,0.7,1]:\n",
        "  model = xgb.XGBRegressor(learning_rate = lr, n_estimators=100, verbosity = 0)\n",
        "  model.fit(X_train_scaled,y_train)\n",
        "  model.score(X_test_scaled, y_test) # scoring the model - r2 squared\n",
        "  print(\"Learning rate : \", lr, \" Train score : \", model.score(X_train_scaled,y_train), \" Cross-Val score : \", np.mean(cross_val_score(model, X_train_scaled, y_train, cv=10)))\n"
      ],
      "metadata": {
        "colab": {
          "base_uri": "https://localhost:8080/"
        },
        "id": "D2eFNMt9KHXq",
        "outputId": "850144c4-d1e9-4688-c18b-b5c866154d72"
      },
      "execution_count": 58,
      "outputs": [
        {
          "output_type": "stream",
          "name": "stdout",
          "text": [
            "Learning rate :  0.01  Train score :  -0.38872917558770315  Cross-Val score :  -0.39632347427187264\n",
            "Learning rate :  0.02  Train score :  0.7454267166743702  Cross-Val score :  0.7421262596353956\n",
            "Learning rate :  0.03  Train score :  0.9247767671922245  Cross-Val score :  0.9220564029401924\n",
            "Learning rate :  0.04  Train score :  0.9621211075081356  Cross-Val score :  0.9599117623793203\n",
            "Learning rate :  0.05  Train score :  0.9741586825352985  Cross-Val score :  0.9721163601531861\n",
            "Learning rate :  0.06  Train score :  0.980238525597634  Cross-Val score :  0.9780913055584026\n",
            "Learning rate :  0.07  Train score :  0.984681017377075  Cross-Val score :  0.9825028715745752\n",
            "Learning rate :  0.08  Train score :  0.9871313583076313  Cross-Val score :  0.9855660651782617\n",
            "Learning rate :  0.09  Train score :  0.9896245393300652  Cross-Val score :  0.9874790679987372\n",
            "Learning rate :  0.1  Train score :  0.9904665581969113  Cross-Val score :  0.9889546533412592\n",
            "Learning rate :  0.11  Train score :  0.9917152227580831  Cross-Val score :  0.9900712479663738\n",
            "Learning rate :  0.12  Train score :  0.9924196343530456  Cross-Val score :  0.990907827466437\n",
            "Learning rate :  0.13  Train score :  0.9930610516389676  Cross-Val score :  0.9914661289944491\n",
            "Learning rate :  0.14  Train score :  0.9937416022328769  Cross-Val score :  0.9917425007600416\n",
            "Learning rate :  0.15  Train score :  0.9933810000167816  Cross-Val score :  0.9921732131872607\n",
            "Learning rate :  0.2  Train score :  0.994101010321686  Cross-Val score :  0.9927531896151505\n",
            "Learning rate :  0.5  Train score :  0.9952498038822818  Cross-Val score :  0.9932127297498349\n",
            "Learning rate :  0.7  Train score :  0.9954323560692364  Cross-Val score :  0.9933843759847351\n",
            "Learning rate :  1  Train score :  0.995072097063719  Cross-Val score :  0.9922653318513408\n"
          ]
        }
      ]
    },
    {
      "cell_type": "markdown",
      "source": [
        "#### *Calcuating Score- R2 Score*"
      ],
      "metadata": {
        "id": "bDmKXV6yLEQN"
      }
    },
    {
      "cell_type": "code",
      "source": [
        "model = xgb.XGBRegressor(learning_rate = 0.7, n_estimators=100)\n",
        "model.fit(X_train_scaled,y_train)\n",
        "model.score(X_test_scaled, y_test)"
      ],
      "metadata": {
        "colab": {
          "base_uri": "https://localhost:8080/"
        },
        "id": "50wWNXBuLH9w",
        "outputId": "9b39bab3-9fa8-4df1-a74a-38827fd1a475"
      },
      "execution_count": 59,
      "outputs": [
        {
          "output_type": "stream",
          "name": "stdout",
          "text": [
            "[10:14:11] WARNING: /workspace/src/objective/regression_obj.cu:152: reg:linear is now deprecated in favor of reg:squarederror.\n"
          ]
        },
        {
          "output_type": "execute_result",
          "data": {
            "text/plain": [
              "0.9934713393590254"
            ]
          },
          "metadata": {},
          "execution_count": 59
        }
      ]
    },
    {
      "cell_type": "markdown",
      "source": [
        "#### *Feature Importances*"
      ],
      "metadata": {
        "id": "TRJOZv7qLrsN"
      }
    },
    {
      "cell_type": "code",
      "source": [
        "from sklearn.feature_selection import RFE\n",
        "estimator = LinearRegression()\n",
        "selector = RFE(estimator, n_features_to_select=3, step=1)\n",
        "selector = selector.fit(X_train_scaled, y_train)\n",
        "list(zip(['AREA', 'INT_SQFT', 'N_BEDROOM', 'N_BATHROOM', 'N_ROOM', 'PARK_FACIL',\n",
        "       'UTILITY_AVAIL', 'STREET', 'MZZONE', 'AGE',\n",
        "       'BUILDTYPE_Commercial', 'BUILDTYPE_House', 'BUILDTYPE_Other'],selector.support_))"
      ],
      "metadata": {
        "colab": {
          "base_uri": "https://localhost:8080/"
        },
        "id": "faAOAud5LvYw",
        "outputId": "dd376da7-facd-44b9-9a5c-0705e51ad564"
      },
      "execution_count": 60,
      "outputs": [
        {
          "output_type": "execute_result",
          "data": {
            "text/plain": [
              "[('AREA', False),\n",
              " ('INT_SQFT', True),\n",
              " ('N_BEDROOM', True),\n",
              " ('N_BATHROOM', False),\n",
              " ('N_ROOM', True),\n",
              " ('PARK_FACIL', False),\n",
              " ('UTILITY_AVAIL', False),\n",
              " ('STREET', False),\n",
              " ('MZZONE', False),\n",
              " ('AGE', False),\n",
              " ('BUILDTYPE_Commercial', False)]"
            ]
          },
          "metadata": {},
          "execution_count": 60
        }
      ]
    },
    {
      "cell_type": "code",
      "source": [
        "!pip install scikit-learn==0.24.2"
      ],
      "metadata": {
        "colab": {
          "base_uri": "https://localhost:8080/"
        },
        "id": "-iFc-SlOL5ht",
        "outputId": "5773082a-487c-48a7-f63c-9ef05f5b3d53"
      },
      "execution_count": 1,
      "outputs": [
        {
          "output_type": "stream",
          "name": "stdout",
          "text": [
            "Looking in indexes: https://pypi.org/simple, https://us-python.pkg.dev/colab-wheels/public/simple/\n",
            "Requirement already satisfied: scikit-learn==0.24.2 in /usr/local/lib/python3.7/dist-packages (0.24.2)\n",
            "Requirement already satisfied: scipy>=0.19.1 in /usr/local/lib/python3.7/dist-packages (from scikit-learn==0.24.2) (1.7.3)\n",
            "Requirement already satisfied: threadpoolctl>=2.0.0 in /usr/local/lib/python3.7/dist-packages (from scikit-learn==0.24.2) (3.1.0)\n",
            "Requirement already satisfied: joblib>=0.11 in /usr/local/lib/python3.7/dist-packages (from scikit-learn==0.24.2) (1.1.0)\n",
            "Requirement already satisfied: numpy>=1.13.3 in /usr/local/lib/python3.7/dist-packages (from scikit-learn==0.24.2) (1.21.6)\n"
          ]
        }
      ]
    },
    {
      "cell_type": "code",
      "source": [
        "from sklearn.feature_selection import SequentialFeatureSelector\n",
        "estimator = LinearRegression()\n",
        "sfs = SequentialFeatureSelector(estimator, n_features_to_select=2)\n",
        "sfs.fit(X_train_scaled, y_train)\n",
        "print(list(zip(['AREA', 'INT_SQFT', 'N_BEDROOM', 'N_BATHROOM', 'N_ROOM', 'PARK_FACIL',\n",
        "       'UTILITY_AVAIL', 'STREET', 'MZZONE', 'AGE',\n",
        "       'BUILDTYPE_Commercial', 'BUILDTYPE_House', 'BUILDTYPE_Other'],sfs.get_support())))"
      ],
      "metadata": {
        "colab": {
          "base_uri": "https://localhost:8080/"
        },
        "id": "drKrkyAlMHQg",
        "outputId": "3080707d-419d-4f42-b5a2-481860aed5f2"
      },
      "execution_count": 61,
      "outputs": [
        {
          "output_type": "stream",
          "name": "stdout",
          "text": [
            "[('AREA', False), ('INT_SQFT', False), ('N_BEDROOM', True), ('N_BATHROOM', False), ('N_ROOM', True), ('PARK_FACIL', False), ('UTILITY_AVAIL', False), ('STREET', False), ('MZZONE', False), ('AGE', False), ('BUILDTYPE_Commercial', False)]\n"
          ]
        }
      ]
    },
    {
      "cell_type": "code",
      "source": [
        "feature_importance = model.feature_importances_\n",
        "sorted_idx = np.argsort(feature_importance)\n",
        "fig = plt.figure(figsize=(12, 6))\n",
        "plt.barh(range(len(sorted_idx)), feature_importance[sorted_idx], align='center')\n",
        "plt.yticks(range(len(sorted_idx)), np.array(X_test.columns)[sorted_idx])\n",
        "plt.title('Feature Importance')"
      ],
      "metadata": {
        "colab": {
          "base_uri": "https://localhost:8080/",
          "height": 408
        },
        "id": "0rO0qFXBMqus",
        "outputId": "348399a0-2728-4af4-c29c-e37afa5bc09e"
      },
      "execution_count": 62,
      "outputs": [
        {
          "output_type": "execute_result",
          "data": {
            "text/plain": [
              "Text(0.5, 1.0, 'Feature Importance')"
            ]
          },
          "metadata": {},
          "execution_count": 62
        },
        {
          "output_type": "display_data",
          "data": {
            "text/plain": [
              "<Figure size 864x432 with 1 Axes>"
            ],
            "image/png": "[encoded data removed]"
          },
          "metadata": {
            "needs_background": "light"
          }
        }
      ]
    },
    {
      "cell_type": "markdown",
      "source": [
        "\n",
        "\n",
        "*   The AREA and the BUILDTYPE_Commercial are the important features.\n",
        "\n",
        "**R2 Scores of all models :**\n",
        "\n",
        "*   Linear Regression   :0.92\n",
        "*   K Nearest Neighbours:0.95\n",
        "\n",
        "*   Decision Tree       :0.88\n",
        "*   Random Forest       :0.88\n",
        "\n",
        "\n",
        "\n",
        "*   XG Boost:0.99\n",
        "\n",
        "**Conclusion:**The best Machine Learning Algorithm for Chennai House Price Predection is **XG Boost** Model.\n",
        "\n",
        "\n",
        "\n",
        "\n",
        "\n",
        "\n",
        "\n",
        "\n",
        "\n",
        "\n",
        "\n",
        "\n"
      ],
      "metadata": {
        "id": "qzbL0MgMM733"
      }
    },
    {
      "cell_type": "markdown",
      "source": [],
      "metadata": {
        "id": "CYpKNYabNu7m"
      }
    }
  ]
}